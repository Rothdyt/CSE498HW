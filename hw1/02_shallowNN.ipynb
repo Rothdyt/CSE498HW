{
 "cells": [
  {
   "cell_type": "code",
   "execution_count": null,
   "metadata": {},
   "outputs": [],
   "source": [
    "import pickle\n",
    "import os.path\n",
    "import os\n",
    "import argparse\n",
    "from matplotlib import  pyplot as plt\n",
    "from utils import *\n",
    "\n",
    "import torch\n",
    "import torchvision\n",
    "import torch.nn.functional as F\n",
    "import torchvision.transforms as transforms\n",
    "import torch.optim as optim\n",
    "import torch.backends.cudnn as cudnn\n",
    "\n",
    "\n",
    "projPath = '.'\n",
    "dataDir = f'{projPath}/db'\n",
    "modelDir = f'{projPath}/model'\n",
    "logDir = f'{projPath}/log'\n",
    "\n",
    "# # General setups\n",
    "# parser = argparse.ArgumentParser(description='PyTorch Training')\n",
    "# parser.add_argument('--total_epochs', '-e', default=10, type=int, help='total training epoch')\n",
    "# parser.add_argument('--batch_size', '-b', default=32, type=int, help='batch size')\n",
    "# parser.add_argument('--checkpoint', '-c', default=None, type=str, help='resume from checkpoint')\n",
    "# args = parser.parse_args()\n",
    "# batch_size = args.batch_size\n",
    "# total_epochs = args.total_epochs"
   ]
  },
  {
   "cell_type": "code",
   "execution_count": 2,
   "metadata": {
    "execution": {
     "iopub.execute_input": "2021-02-18T07:33:41.913383Z",
     "iopub.status.busy": "2021-02-18T07:33:41.912944Z",
     "iopub.status.idle": "2021-02-18T07:33:41.929739Z",
     "shell.execute_reply": "2021-02-18T07:33:41.927601Z",
     "shell.execute_reply.started": "2021-02-18T07:33:41.913302Z"
    }
   },
   "outputs": [],
   "source": [
    "# reference https://pytorch.org/tutorials/beginner/examples_nn/two_layer_net_module.html\n",
    "class twoLayerNN(torch.nn.Module):\n",
    "    def __init__(self, D_in, H, D_out, name=\"\"):\n",
    "        \"\"\"\n",
    "        This class is used to for MNIST and CIFAR-10 image classification\n",
    "        In the constructor we instantiate two nn.Linear modules and assign them as\n",
    "        member variables.\n",
    "        \"\"\"\n",
    "        super(twoLayerNN, self).__init__()\n",
    "        # input layer is a fully connected layer\n",
    "        # for single input x of shape (D_in, 1)\n",
    "        # 'Linear' method creates a weight matrix W of shape (H, D_in) and \n",
    "        # a bias vector b of shape (H, 1) and then outputs\n",
    "        # z = Wx + b of shape (H,1)\n",
    "        self.name = name\n",
    "        self.fcInput = torch.nn.Linear(D_in, H, bias=True)\n",
    "        self.reluHidden = torch.nn.ReLU()\n",
    "        self.fcOutput = torch.nn.Linear(H, D_out, bias=True)\n",
    "\n",
    "    def forward(self, x):\n",
    "        \"\"\"\n",
    "        In the forward function we accept a Tensor of input data and we must return\n",
    "        a Tensor of output data. We can use Modules defined in the constructor as\n",
    "        well as arbitrary operators on Tensors.\n",
    "        \"\"\"\n",
    "        input = self.fcInput(x)\n",
    "        hidden = self.reluHidden(input)\n",
    "        output = self.fcOutput(hidden)\n",
    "        return output"
   ]
  },
  {
   "cell_type": "markdown",
   "metadata": {},
   "source": [
    "# MNIST\n",
    "## Data preparation"
   ]
  },
  {
   "cell_type": "code",
   "execution_count": 3,
   "metadata": {
    "execution": {
     "iopub.execute_input": "2021-02-18T07:33:41.932635Z",
     "iopub.status.busy": "2021-02-18T07:33:41.932271Z",
     "iopub.status.idle": "2021-02-18T07:33:42.025604Z",
     "shell.execute_reply": "2021-02-18T07:33:42.024248Z",
     "shell.execute_reply.started": "2021-02-18T07:33:41.932573Z"
    }
   },
   "outputs": [
    {
     "name": "stdout",
     "output_type": "stream",
     "text": [
      "# train samples: 60000 | # test samples:10000\n",
      "per image size: 28*28\n"
     ]
    }
   ],
   "source": [
    "transform = transforms.Compose(\n",
    "    [transforms.ToTensor(),\n",
    "     transforms.Normalize((0.5), (0.5))])\n",
    "trainset = torchvision.datasets.MNIST(dataDir, train=True,  download=False, transform=transform)\n",
    "trainloader = torch.utils.data.DataLoader(trainset, batch_size=32,\n",
    "                                          shuffle=True, num_workers=2)\n",
    "testset = torchvision.datasets.MNIST(dataDir, train=False,  download=False, transform=transform)\n",
    "testloader = torch.utils.data.DataLoader(testset, batch_size=32,\n",
    "                                         shuffle=False, num_workers=2)\n",
    "nTrainSamples, width, height = trainset.data.shape\n",
    "nTestSamples, width, height = testset.data.shape\n",
    "print(f'# train samples: {nTrainSamples} | # test samples:{nTestSamples}')\n",
    "print(f'per image size: {width}*{height}')"
   ]
  },
  {
   "cell_type": "code",
   "execution_count": 4,
   "metadata": {
    "execution": {
     "iopub.execute_input": "2021-02-18T07:33:42.036982Z",
     "iopub.status.busy": "2021-02-18T07:33:42.029575Z",
     "iopub.status.idle": "2021-02-18T07:33:42.061106Z",
     "shell.execute_reply": "2021-02-18T07:33:42.059010Z",
     "shell.execute_reply.started": "2021-02-18T07:33:42.036858Z"
    }
   },
   "outputs": [],
   "source": [
    "# initialize network\n",
    "D_in, H, D_out = width*height, 20, 10\n",
    "net = twoLayerNN(D_in, H, D_out, name=f'twoLayerW{H}')\n",
    "# choose optimizer\n",
    "optimizer = optim.SGD(net.parameters(), lr=0.05, momentum=0.9, weight_decay=5e-4)\n",
    "logFilePath= f'{logDir}/mnist-2nn'\n",
    "logger = Logger(logFilePath)\n",
    "criterion = torch.nn.CrossEntropyLoss()\n",
    "checkpointPath = f'{modelDir}/{net.name}-checkpoint.pth.tar'\n",
    "twoLayerW20 = TrainAndTest(net, trainloader, testloader, \n",
    "                           criterion, optimizer)\n",
    "twoLayerW20.build(start_epoch=0, total_epochs=5, checkpointPath=None, \n",
    "                           logger=logger, modelDir=modelDir, vectorize=True)"
   ]
  },
  {
   "cell_type": "code",
   "execution_count": 8,
   "metadata": {
    "execution": {
     "iopub.execute_input": "2021-02-18T07:35:47.743667Z",
     "iopub.status.busy": "2021-02-18T07:35:47.742261Z",
     "iopub.status.idle": "2021-02-18T07:35:47.923010Z",
     "shell.execute_reply": "2021-02-18T07:35:47.920985Z",
     "shell.execute_reply.started": "2021-02-18T07:35:47.743330Z"
    }
   },
   "outputs": [],
   "source": [
    "rm ./model/twoLayerW20-checkpoint.pth.tar ./model/best-twoLayerW20-checkpoint.pth.tar"
   ]
  },
  {
   "cell_type": "code",
   "execution_count": 7,
   "metadata": {
    "execution": {
     "iopub.execute_input": "2021-02-18T07:34:23.798596Z",
     "iopub.status.busy": "2021-02-18T07:34:23.798137Z",
     "iopub.status.idle": "2021-02-18T07:35:09.532543Z",
     "shell.execute_reply": "2021-02-18T07:35:09.531150Z",
     "shell.execute_reply.started": "2021-02-18T07:34:23.798382Z"
    }
   },
   "outputs": [
    {
     "name": "stdout",
     "output_type": "stream",
     "text": [
      "Number of GPU availabel: 0\n",
      "Resume training from the checkpoint...\n",
      "=> loading checkpoint from './model/twoLayerW20-checkpoint.pth.tar'\n",
      "=> load checkpoint from './model/twoLayerW20-checkpoint.pth.tar' (epochs 3 are trained)\n",
      "=> Epoch: [   3/   8] | Testing  Loss:[2.0636e+00] | Testing  Accuracy: [0.0717]\n",
      "For the loaded net: testing loss: 2.0636 | testing accuracy:[0.0717]\n",
      "Recorded          : testing loss: 2.0636 | testing accuracy:[0.0717]\n",
      "=> Epoch: [   4/   8] | Training Loss:[2.0736e+00] | Training Accuracy: [0.2016]\n",
      "=> Epoch: [   4/   8] | Testing  Loss:[2.0645e+00] | Testing  Accuracy: [0.0663]\n",
      "=> Epoch: [   5/   8] | Training Loss:[2.0793e+00] | Training Accuracy: [0.1981]\n",
      "=> Epoch: [   5/   8] | Testing  Loss:[2.0735e+00] | Testing  Accuracy: [0.0683]\n",
      "=> Epoch: [   6/   8] | Training Loss:[1.6462e+00] | Training Accuracy: [0.2044]\n",
      "=> Epoch: [   6/   8] | Testing  Loss:[2.0776e+00] | Testing  Accuracy: [0.0604]\n",
      "=> Epoch: [   7/   8] | Training Loss:[2.1849e+00] | Training Accuracy: [0.2044]\n",
      "=> Epoch: [   7/   8] | Testing  Loss:[2.0689e+00] | Testing  Accuracy: [0.0671]\n",
      "=> Epoch: [   8/   8] | Training Loss:[2.0890e+00] | Training Accuracy: [0.2248]\n",
      "=> Epoch: [   8/   8] | Testing  Loss:[2.2189e+00] | Testing  Accuracy: [0.0759]\n",
      "=> Trained on [   8] epochs, with test accuracy [0.0759].\n",
      "=> During the training stages, historical best test accuracy is [0.0985]\n"
     ]
    }
   ],
   "source": [
    "# checkpointPath = f'{modelDir}/{net.name}-checkpoint.pth.tar'\n",
    "# twoLayerW20.build(start_epoch=0, total_epochs=8, checkpointPath=checkpointPath, \n",
    "#                            logger=None, modelDir=modelDir, vectorize=True)"
   ]
  },
  {
   "cell_type": "code",
   "execution_count": null,
   "metadata": {},
   "outputs": [],
   "source": []
  }
 ],
 "metadata": {
  "kernelspec": {
   "display_name": "Python 3",
   "language": "python",
   "name": "python3"
  },
  "language_info": {
   "codemirror_mode": {
    "name": "ipython",
    "version": 3
   },
   "file_extension": ".py",
   "mimetype": "text/x-python",
   "name": "python",
   "nbconvert_exporter": "python",
   "pygments_lexer": "ipython3",
   "version": "3.7.6"
  }
 },
 "nbformat": 4,
 "nbformat_minor": 4
}
