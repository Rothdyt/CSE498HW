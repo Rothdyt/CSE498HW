{
 "cells": [
  {
   "cell_type": "code",
   "execution_count": 1,
   "metadata": {},
   "outputs": [],
   "source": [
    "import pickle\n",
    "import os.path\n",
    "import argparse\n",
    "from matplotlib import  pyplot as plt\n",
    "from utils import *\n",
    "\n",
    "import torch\n",
    "import torchvision\n",
    "import torch.nn.functional as F\n",
    "import torchvision.transforms as transforms\n",
    "import torch.optim as optim\n",
    "import torch.backends.cudnn as cudnn\n",
    "\n",
    "\n",
    "projPath = '.'\n",
    "dataDir = f'{projPath}/db'\n",
    "modelDir = f'{projPath}/model'\n",
    "logDir = f'{projPath}/log'\n",
    "batch_size = 128\n",
    "# # General setups\n",
    "# parser = argparse.ArgumentParser(description='PyTorch Training')\n",
    "# parser.add_argument('--total_epochs', '-e', default=10, type=int, help='total training epoch')\n",
    "# parser.add_argument('--batch_size', '-b', default=32, type=int, help='batch size')\n",
    "# parser.add_argument('--checkpoint', '-c', default=None, type=str, help='resume from checkpoint')\n",
    "# args = parser.parse_args()\n",
    "# batch_size = args.batch_size\n",
    "# total_epochs = args.total_epochs"
   ]
  },
  {
   "cell_type": "markdown",
   "metadata": {},
   "source": [
    "# MNIST\n",
    "## Data preparation"
   ]
  },
  {
   "cell_type": "code",
   "execution_count": 3,
   "metadata": {},
   "outputs": [
    {
     "name": "stdout",
     "output_type": "stream",
     "text": [
      "# train samples: 60000 | # test samples:10000\n",
      "per image size: 28*28\n"
     ]
    }
   ],
   "source": [
    "transform = transforms.Compose(\n",
    "    [transforms.ToTensor(),\n",
    "     transforms.Normalize((0.5), (0.5))])\n",
    "trainset = torchvision.datasets.MNIST(dataDir, train=True,  download=False, transform=transform)\n",
    "trainloader = torch.utils.data.DataLoader(trainset, batch_size=128,\n",
    "                                          shuffle=True, num_workers=2)\n",
    "testset = torchvision.datasets.MNIST(dataDir, train=False,  download=False, transform=transform)\n",
    "testloader = torch.utils.data.DataLoader(testset, batch_size=128,\n",
    "                                         shuffle=False, num_workers=2)\n",
    "nTrainSamples, width, height = trainset.data.shape\n",
    "nTestSamples, width, height = testset.data.shape\n",
    "print(f'# train samples: {nTrainSamples} | # test samples:{nTestSamples}')\n",
    "print(f'per image size: {width}*{height}')"
   ]
  },
  {
   "source": [
    "# Train neural nets: a narrow and a wide"
   ],
   "cell_type": "markdown",
   "metadata": {}
  },
  {
   "cell_type": "code",
   "execution_count": 4,
   "metadata": {},
   "outputs": [],
   "source": [
    "# initialize network\n",
    "D_in, H, D_out = width*height, 200, 10\n",
    "net = twoLayerNN(D_in, H, D_out)\n",
    "netname=f'twoLayerW{H}'\n",
    "# choose optimizer\n",
    "optimizer = optim.SGD(net.parameters(), lr=1e-3, momentum=0.9, weight_decay=5e-4)\n",
    "logFilePath= f'{logDir}/mnist-{netname}'\n",
    "logger = Logger(logFilePath)\n",
    "criterion = torch.nn.CrossEntropyLoss()\n",
    "checkpointPath = f'{modelDir}/{netname}-checkpoint.pth.tar'\n",
    "twoLayerW200 = TrainAndTest(net, trainloader, testloader, \n",
    "                           criterion, optimizer, netname=netname)\n",
    "twoLayerW200.build(start_epoch=0, total_epochs=20, checkpointPath=None, \n",
    "                           logger=logger, modelDir=modelDir, vectorize=True)"
   ]
  },
  {
   "cell_type": "code",
   "execution_count": 5,
   "metadata": {},
   "outputs": [],
   "source": [
    "# initialize network\n",
    "D_in, H, D_out = width*height, 20, 10\n",
    "net = twoLayerNN(D_in, H, D_out)\n",
    "netname=f'twoLayerW{H}'\n",
    "# choose optimizer\n",
    "optimizer = optim.SGD(net.parameters(), lr=1e-3, momentum=0.9, weight_decay=5e-4)\n",
    "logFilePath= f'{logDir}/mnist-{netname}'\n",
    "logger = Logger(logFilePath)\n",
    "criterion = torch.nn.CrossEntropyLoss()\n",
    "checkpointPath = f'{modelDir}/{netname}-checkpoint.pth.tar'\n",
    "twoLayerW20 = TrainAndTest(net, trainloader, testloader, \n",
    "                           criterion, optimizer, netname=netname)\n",
    "twoLayerW20.build(start_epoch=0, total_epochs=30, checkpointPath=None, \n",
    "                           logger=logger, modelDir=modelDir, vectorize=True)"
   ]
  },
  {
   "cell_type": "code",
   "execution_count": null,
   "metadata": {},
   "outputs": [],
   "source": []
  }
 ],
 "metadata": {
  "kernelspec": {
   "display_name": "Python 3",
   "language": "python",
   "name": "python3"
  },
  "language_info": {
   "codemirror_mode": {
    "name": "ipython",
    "version": 3
   },
   "file_extension": ".py",
   "mimetype": "text/x-python",
   "name": "python",
   "nbconvert_exporter": "python",
   "pygments_lexer": "ipython3",
   "version": "3.8.3"
  }
 },
 "nbformat": 4,
 "nbformat_minor": 4
}