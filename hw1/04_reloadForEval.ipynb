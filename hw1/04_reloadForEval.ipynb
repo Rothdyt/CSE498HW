{
 "cells": [
  {
   "cell_type": "code",
   "execution_count": 5,
   "metadata": {
    "colab": {
     "base_uri": "https://localhost:8080/"
    },
    "execution": {
     "iopub.execute_input": "2021-02-18T02:24:32.140125Z",
     "iopub.status.busy": "2021-02-18T02:24:32.139674Z",
     "iopub.status.idle": "2021-02-18T02:24:32.148521Z",
     "shell.execute_reply": "2021-02-18T02:24:32.146884Z",
     "shell.execute_reply.started": "2021-02-18T02:24:32.139958Z"
    },
    "executionInfo": {
     "elapsed": 31425,
     "status": "ok",
     "timestamp": 1613614230976,
     "user": {
      "displayName": "Yutong Dai",
      "photoUrl": "",
      "userId": "05937299442661106411"
     },
     "user_tz": 300
    },
    "id": "d-ypgcuotX16",
    "outputId": "7a36e8c9-3946-4e84-971b-607f97e7510c"
   },
   "outputs": [],
   "source": [
    "import torch\n",
    "import torchvision\n",
    "import torchvision.transforms as transforms\n",
    "from matplotlib import  pyplot as plt\n",
    "import _pickle as cPickle\n",
    "import pickle\n",
    "import os.path\n",
    "import warnings\n",
    "from sklearn.tree import  DecisionTreeClassifier\n",
    "from sklearn.ensemble import GradientBoostingClassifier\n",
    "from sklearn.model_selection import GridSearchCV\n",
    "from sklearn.metrics import f1_score, accuracy_score\n",
    "import warnings\n",
    "warnings.filterwarnings(\"ignore\")\n",
    "projPath = './'\n",
    "dataDir = f'{projPath}/db/'\n",
    "modelDir = f'{projPath}/model/'"
   ]
  },
  {
   "cell_type": "markdown",
   "metadata": {
    "id": "WMR9xApkuEv-"
   },
   "source": [
    "# MNIST Dataset\n"
   ]
  },
  {
   "cell_type": "code",
   "execution_count": 3,
   "metadata": {
    "colab": {
     "base_uri": "https://localhost:8080/"
    },
    "execution": {
     "iopub.execute_input": "2021-02-18T02:20:24.120331Z",
     "iopub.status.busy": "2021-02-18T02:20:24.119933Z",
     "iopub.status.idle": "2021-02-18T02:20:24.157504Z",
     "shell.execute_reply": "2021-02-18T02:20:24.156367Z",
     "shell.execute_reply.started": "2021-02-18T02:20:24.120173Z"
    },
    "executionInfo": {
     "elapsed": 2003,
     "status": "ok",
     "timestamp": 1613520450492,
     "user": {
      "displayName": "Yutong Dai",
      "photoUrl": "",
      "userId": "05937299442661106411"
     },
     "user_tz": 300
    },
    "id": "6nMZ04AEqcP3",
    "outputId": "30013bb4-12e7-46d3-b815-d38b12cb68a8"
   },
   "outputs": [
    {
     "name": "stdout",
     "output_type": "stream",
     "text": [
      "# test samples:10000\n",
      "per image size: 28*28\n"
     ]
    }
   ],
   "source": [
    "transform = transforms.Compose(\n",
    "    [transforms.ToTensor(),\n",
    "     transforms.Normalize((0.5, 0.5, 0.5), (0.5, 0.5, 0.5))])\n",
    "\n",
    "testset = torchvision.datasets.MNIST(dataDir, train=False,  download=False, transform=transform)\n",
    "nTestSamples, width, height = testset.data.shape\n",
    "print(f'# test samples:{nTestSamples}')\n",
    "print(f'per image size: {width}*{height}')\n",
    "Xtest = testset.data.view([nTestSamples, width*height])\n",
    "Ytest = testset.targets.view([nTestSamples,1])"
   ]
  },
  {
   "cell_type": "markdown",
   "metadata": {
    "id": "BwE0NAtQqO8y"
   },
   "source": [
    "## Decision Tree"
   ]
  },
  {
   "cell_type": "code",
   "execution_count": 6,
   "metadata": {
    "colab": {
     "base_uri": "https://localhost:8080/"
    },
    "execution": {
     "iopub.execute_input": "2021-02-18T02:24:35.537001Z",
     "iopub.status.busy": "2021-02-18T02:24:35.536611Z",
     "iopub.status.idle": "2021-02-18T02:24:35.964664Z",
     "shell.execute_reply": "2021-02-18T02:24:35.963098Z",
     "shell.execute_reply.started": "2021-02-18T02:24:35.536847Z"
    },
    "executionInfo": {
     "elapsed": 848,
     "status": "ok",
     "timestamp": 1613520452472,
     "user": {
      "displayName": "Yutong Dai",
      "photoUrl": "",
      "userId": "05937299442661106411"
     },
     "user_tz": 300
    },
    "id": "AcvboJbfqT0U",
    "outputId": "39ba1ce3-5d53-4858-aa86-6a6289c9cd4f"
   },
   "outputs": [
    {
     "name": "stdout",
     "output_type": "stream",
     "text": [
      "Classification accuracy:0.88120 | Macro-F1 score:0.87962\n"
     ]
    }
   ],
   "source": [
    "modelPath = modelDir+ '{}.pkl'.format('decisionTree')\n",
    "with open(modelPath,\"rb\") as f:\n",
    "  dtreeBest = pickle.load(f)\n",
    "Ypred = dtreeBest.predict(Xtest)\n",
    "print(f'Classification accuracy:{accuracy_score(Ypred, Ytest):6.5f} | Macro-F1 score:{f1_score(Ypred, Ytest, average=\"macro\"):6.5f}')"
   ]
  },
  {
   "cell_type": "markdown",
   "metadata": {
    "id": "u5EY3C4AqPIA"
   },
   "source": [
    "## Gradient Boosting"
   ]
  },
  {
   "cell_type": "code",
   "execution_count": 7,
   "metadata": {
    "colab": {
     "base_uri": "https://localhost:8080/"
    },
    "execution": {
     "iopub.execute_input": "2021-02-18T02:24:39.331605Z",
     "iopub.status.busy": "2021-02-18T02:24:39.331251Z",
     "iopub.status.idle": "2021-02-18T02:24:39.955967Z",
     "shell.execute_reply": "2021-02-18T02:24:39.954960Z",
     "shell.execute_reply.started": "2021-02-18T02:24:39.331466Z"
    },
    "executionInfo": {
     "elapsed": 1382,
     "status": "ok",
     "timestamp": 1613520454989,
     "user": {
      "displayName": "Yutong Dai",
      "photoUrl": "",
      "userId": "05937299442661106411"
     },
     "user_tz": 300
    },
    "id": "G9BUVGBAqOH2",
    "outputId": "90c839ee-0cd4-4457-a1b7-ddc24a881a1e"
   },
   "outputs": [
    {
     "name": "stdout",
     "output_type": "stream",
     "text": [
      "Classification accuracy:0.94580 | Macro-F1 score:0.94528\n"
     ]
    }
   ],
   "source": [
    "modelPath = modelDir+ '{}.pkl'.format('gradientBoosting')\n",
    "with open(modelPath,\"rb\") as f:\n",
    "  gbBest = pickle.load(f)\n",
    "Ypred = gbBest.predict(Xtest)\n",
    "print(f'Classification accuracy:{accuracy_score(Ypred, Ytest):6.5f} | Macro-F1 score:{f1_score(Ypred, Ytest, average=\"macro\"):6.5f}')"
   ]
  },
  {
   "cell_type": "markdown",
   "metadata": {
    "id": "pcHguCuUHLVJ"
   },
   "source": [
    "## Naive Bayes - Gasussian"
   ]
  },
  {
   "cell_type": "code",
   "execution_count": 8,
   "metadata": {
    "colab": {
     "base_uri": "https://localhost:8080/"
    },
    "execution": {
     "iopub.execute_input": "2021-02-18T02:24:41.109359Z",
     "iopub.status.busy": "2021-02-18T02:24:41.108916Z",
     "iopub.status.idle": "2021-02-18T02:24:41.996197Z",
     "shell.execute_reply": "2021-02-18T02:24:41.994927Z",
     "shell.execute_reply.started": "2021-02-18T02:24:41.109169Z"
    },
    "executionInfo": {
     "elapsed": 1271,
     "status": "ok",
     "timestamp": 1613520457750,
     "user": {
      "displayName": "Yutong Dai",
      "photoUrl": "",
      "userId": "05937299442661106411"
     },
     "user_tz": 300
    },
    "id": "-EPES_8vqOYi",
    "outputId": "6e084bdc-05b2-48cd-fc07-d2605f23c97c"
   },
   "outputs": [
    {
     "name": "stdout",
     "output_type": "stream",
     "text": [
      "Classification accuracy:0.81400 | Macro-F1 score:0.81235\n"
     ]
    }
   ],
   "source": [
    "modelPath = modelDir+ '{}.pkl'.format('GaussianNB')\n",
    "with open(modelPath,\"rb\") as f:\n",
    "  nbBest = pickle.load(f)\n",
    "Ypred = nbBest.predict(Xtest)\n",
    "print(f'Classification accuracy:{accuracy_score(Ypred, Ytest):6.5f} | Macro-F1 score:{f1_score(Ypred, Ytest, average=\"macro\"):6.5f}')"
   ]
  },
  {
   "cell_type": "markdown",
   "metadata": {
    "id": "GAxe4Q7wNjZK"
   },
   "source": [
    "# CIFAR-10"
   ]
  },
  {
   "cell_type": "code",
   "execution_count": 9,
   "metadata": {
    "colab": {
     "base_uri": "https://localhost:8080/"
    },
    "execution": {
     "iopub.execute_input": "2021-02-18T02:24:48.450616Z",
     "iopub.status.busy": "2021-02-18T02:24:48.450176Z",
     "iopub.status.idle": "2021-02-18T02:24:49.110361Z",
     "shell.execute_reply": "2021-02-18T02:24:49.109412Z",
     "shell.execute_reply.started": "2021-02-18T02:24:48.450410Z"
    },
    "executionInfo": {
     "elapsed": 1056,
     "status": "ok",
     "timestamp": 1613520463871,
     "user": {
      "displayName": "Yutong Dai",
      "photoUrl": "",
      "userId": "05937299442661106411"
     },
     "user_tz": 300
    },
    "id": "G6xklPxdNlXv",
    "outputId": "d10b258c-6af2-406d-82c5-3397fccadaaa"
   },
   "outputs": [
    {
     "name": "stdout",
     "output_type": "stream",
     "text": [
      "per image size: 32*32 | per image channel:3\n",
      "Xtest  shape: (10000, 3072) | Ytest shape: torch.Size([10000])\n"
     ]
    }
   ],
   "source": [
    "transform = transforms.Compose(\n",
    "    [transforms.ToTensor(),\n",
    "     transforms.Normalize((0.5, 0.5, 0.5), (0.5, 0.5, 0.5))])\n",
    "testset = torchvision.datasets.CIFAR10(dataDir, train=False,  download=False, transform=transform)\n",
    "nTestSamples, width, height, channel = testset.data.shape\n",
    "print(f'per image size: {width}*{height} | per image channel:{channel}')\n",
    "Xtest = testset.data.reshape([nTestSamples, width*height*channel])\n",
    "Ytest = torch.tensor(testset.targets)\n",
    "print(f'Xtest  shape: {Xtest.shape} | Ytest shape: {Ytest.shape}')"
   ]
  },
  {
   "cell_type": "markdown",
   "metadata": {
    "id": "WqQiyyFRcuO9"
   },
   "source": [
    "# Naive Bayes - Gaussian"
   ]
  },
  {
   "cell_type": "code",
   "execution_count": 10,
   "metadata": {
    "colab": {
     "base_uri": "https://localhost:8080/"
    },
    "execution": {
     "iopub.execute_input": "2021-02-18T02:24:50.529825Z",
     "iopub.status.busy": "2021-02-18T02:24:50.529361Z",
     "iopub.status.idle": "2021-02-18T02:24:55.852814Z",
     "shell.execute_reply": "2021-02-18T02:24:55.851845Z",
     "shell.execute_reply.started": "2021-02-18T02:24:50.529749Z"
    },
    "executionInfo": {
     "elapsed": 2842,
     "status": "ok",
     "timestamp": 1613520469133,
     "user": {
      "displayName": "Yutong Dai",
      "photoUrl": "",
      "userId": "05937299442661106411"
     },
     "user_tz": 300
    },
    "id": "nIZcFXzSTuDK",
    "outputId": "c283ee73-1114-41e0-f793-b2188a297142"
   },
   "outputs": [
    {
     "name": "stdout",
     "output_type": "stream",
     "text": [
      "Classification accuracy:0.29760 | Macro-F1 score:0.27546\n"
     ]
    }
   ],
   "source": [
    "modelPath = modelDir+ '{}.pkl'.format('cifa10-GaussianNB')\n",
    "with open(modelPath,\"rb\") as f:\n",
    "  nbBest = pickle.load(f)\n",
    "Ypred = nbBest.predict(Xtest)\n",
    "print(f'Classification accuracy:{accuracy_score(Ypred, Ytest):6.5f} | Macro-F1 score:{f1_score(Ypred, Ytest, average=\"macro\"):6.5f}')"
   ]
  },
  {
   "cell_type": "markdown",
   "metadata": {
    "id": "tv-9EnWqc12s"
   },
   "source": [
    "## Decision Tree"
   ]
  },
  {
   "cell_type": "code",
   "execution_count": 11,
   "metadata": {
    "colab": {
     "base_uri": "https://localhost:8080/"
    },
    "execution": {
     "iopub.execute_input": "2021-02-18T02:24:58.592802Z",
     "iopub.status.busy": "2021-02-18T02:24:58.592417Z",
     "iopub.status.idle": "2021-02-18T02:24:58.743917Z",
     "shell.execute_reply": "2021-02-18T02:24:58.743005Z",
     "shell.execute_reply.started": "2021-02-18T02:24:58.592648Z"
    },
    "executionInfo": {
     "elapsed": 1516,
     "status": "ok",
     "timestamp": 1613520472628,
     "user": {
      "displayName": "Yutong Dai",
      "photoUrl": "",
      "userId": "05937299442661106411"
     },
     "user_tz": 300
    },
    "id": "QpSBBc5Gcyp1",
    "outputId": "b2e11e4f-2ae3-43cd-98f2-0b70b0a3da15"
   },
   "outputs": [
    {
     "name": "stdout",
     "output_type": "stream",
     "text": [
      "Classification accuracy:0.26970 | Macro-F1 score:0.26961\n"
     ]
    }
   ],
   "source": [
    "modelPath = modelDir+ '{}.pkl'.format('cifa10-decisionTree')\n",
    "with open(modelPath,\"rb\") as f:\n",
    "  dtreeBest = pickle.load(f)\n",
    "Ypred = dtreeBest.predict(Xtest)\n",
    "print(f'Classification accuracy:{accuracy_score(Ypred, Ytest):6.5f} | Macro-F1 score:{f1_score(Ypred, Ytest, average=\"macro\"):6.5f}')"
   ]
  },
  {
   "cell_type": "markdown",
   "metadata": {
    "id": "txR15KaJULXH"
   },
   "source": [
    "## Gradient Boosting"
   ]
  },
  {
   "cell_type": "code",
   "execution_count": 12,
   "metadata": {
    "colab": {
     "base_uri": "https://localhost:8080/"
    },
    "execution": {
     "iopub.execute_input": "2021-02-18T02:25:00.991951Z",
     "iopub.status.busy": "2021-02-18T02:25:00.991304Z",
     "iopub.status.idle": "2021-02-18T02:25:01.754941Z",
     "shell.execute_reply": "2021-02-18T02:25:01.753928Z",
     "shell.execute_reply.started": "2021-02-18T02:25:00.991650Z"
    },
    "executionInfo": {
     "elapsed": 1063,
     "status": "ok",
     "timestamp": 1613520497602,
     "user": {
      "displayName": "Yutong Dai",
      "photoUrl": "",
      "userId": "05937299442661106411"
     },
     "user_tz": 300
    },
    "id": "S7VS9DcYT4qx",
    "outputId": "a533db0d-f9bf-4d21-8e4a-a6315e2a34fb"
   },
   "outputs": [
    {
     "name": "stdout",
     "output_type": "stream",
     "text": [
      "Classification accuracy:0.48250 | Macro-F1 score:0.47972\n"
     ]
    }
   ],
   "source": [
    "modelPath = modelDir+ '{}.pkl'.format('cifa10-gradientBoosting')\n",
    "with open(modelPath,\"rb\") as f:\n",
    "  nbBest = pickle.load(f)\n",
    "Ypred = nbBest.predict(Xtest)\n",
    "print(f'Classification accuracy:{accuracy_score(Ypred, Ytest):6.5f} | Macro-F1 score:{f1_score(Ypred, Ytest, average=\"macro\"):6.5f}')"
   ]
  },
  {
   "cell_type": "code",
   "execution_count": null,
   "metadata": {},
   "outputs": [],
   "source": []
  }
 ],
 "metadata": {
  "colab": {
   "authorship_tag": "ABX9TyORoEE4X69dFK7l4xVjG81Q",
   "collapsed_sections": [],
   "name": "04_reloadForEval.ipynb",
   "provenance": [],
   "toc_visible": true
  },
  "kernelspec": {
   "display_name": "Python 3",
   "language": "python",
   "name": "python3"
  },
  "language_info": {
   "codemirror_mode": {
    "name": "ipython",
    "version": 3
   },
   "file_extension": ".py",
   "mimetype": "text/x-python",
   "name": "python",
   "nbconvert_exporter": "python",
   "pygments_lexer": "ipython3",
   "version": "3.7.6"
  }
 },
 "nbformat": 4,
 "nbformat_minor": 4
}
