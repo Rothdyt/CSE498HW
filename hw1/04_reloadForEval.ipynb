{
 "cells": [
  {
   "cell_type": "code",
   "execution_count": 3,
   "metadata": {
    "colab": {
     "base_uri": "https://localhost:8080/"
    },
    "execution": {
     "iopub.execute_input": "2021-02-18T02:24:32.140125Z",
     "iopub.status.busy": "2021-02-18T02:24:32.139674Z",
     "iopub.status.idle": "2021-02-18T02:24:32.148521Z",
     "shell.execute_reply": "2021-02-18T02:24:32.146884Z",
     "shell.execute_reply.started": "2021-02-18T02:24:32.139958Z"
    },
    "executionInfo": {
     "elapsed": 31425,
     "status": "ok",
     "timestamp": 1613614230976,
     "user": {
      "displayName": "Yutong Dai",
      "photoUrl": "",
      "userId": "05937299442661106411"
     },
     "user_tz": 300
    },
    "id": "d-ypgcuotX16",
    "outputId": "7a36e8c9-3946-4e84-971b-607f97e7510c"
   },
   "outputs": [],
   "source": [
    "import torch\n",
    "import torchvision\n",
    "import torchvision.transforms as transforms\n",
    "from matplotlib import  pyplot as plt\n",
    "import pickle\n",
    "import os.path\n",
    "import warnings\n",
    "from sklearn.tree import  DecisionTreeClassifier\n",
    "from sklearn.ensemble import GradientBoostingClassifier\n",
    "from sklearn.model_selection import GridSearchCV\n",
    "from sklearn.metrics import f1_score, accuracy_score\n",
    "import warnings\n",
    "from utils import *\n",
    "warnings.filterwarnings(\"ignore\")\n",
    "projPath = './'\n",
    "dataDir = f'{projPath}/db/'\n",
    "modelDir = f'{projPath}/model/'"
   ]
  },
  {
   "cell_type": "markdown",
   "metadata": {
    "id": "WMR9xApkuEv-"
   },
   "source": [
    "# MNIST Dataset\n"
   ]
  },
  {
   "cell_type": "code",
   "execution_count": 2,
   "metadata": {
    "colab": {
     "base_uri": "https://localhost:8080/"
    },
    "execution": {
     "iopub.execute_input": "2021-02-18T02:20:24.120331Z",
     "iopub.status.busy": "2021-02-18T02:20:24.119933Z",
     "iopub.status.idle": "2021-02-18T02:20:24.157504Z",
     "shell.execute_reply": "2021-02-18T02:20:24.156367Z",
     "shell.execute_reply.started": "2021-02-18T02:20:24.120173Z"
    },
    "executionInfo": {
     "elapsed": 2003,
     "status": "ok",
     "timestamp": 1613520450492,
     "user": {
      "displayName": "Yutong Dai",
      "photoUrl": "",
      "userId": "05937299442661106411"
     },
     "user_tz": 300
    },
    "id": "6nMZ04AEqcP3",
    "outputId": "30013bb4-12e7-46d3-b815-d38b12cb68a8"
   },
   "outputs": [
    {
     "output_type": "stream",
     "name": "stdout",
     "text": [
      "# test samples:10000\nper image size: 28*28\n"
     ]
    }
   ],
   "source": [
    "transform = transforms.Compose(\n",
    "    [transforms.ToTensor(),\n",
    "     transforms.Normalize((0.5), (0.5))])\n",
    "\n",
    "testset = torchvision.datasets.MNIST(dataDir, train=False,  download=False, transform=transform)\n",
    "testloader = torch.utils.data.DataLoader(testset, batch_size=128,\n",
    "                                         shuffle=False, num_workers=2)\n",
    "nTestSamples, width, height = testset.data.shape\n",
    "print(f'# test samples:{nTestSamples}')\n",
    "print(f'per image size: {width}*{height}')\n",
    "Xtest = testset.data.view([nTestSamples, width*height])\n",
    "Ytest = testset.targets.view([nTestSamples,1])"
   ]
  },
  {
   "cell_type": "markdown",
   "metadata": {
    "id": "BwE0NAtQqO8y"
   },
   "source": [
    "## Decision Tree"
   ]
  },
  {
   "cell_type": "code",
   "execution_count": 6,
   "metadata": {
    "colab": {
     "base_uri": "https://localhost:8080/"
    },
    "execution": {
     "iopub.execute_input": "2021-02-18T02:24:35.537001Z",
     "iopub.status.busy": "2021-02-18T02:24:35.536611Z",
     "iopub.status.idle": "2021-02-18T02:24:35.964664Z",
     "shell.execute_reply": "2021-02-18T02:24:35.963098Z",
     "shell.execute_reply.started": "2021-02-18T02:24:35.536847Z"
    },
    "executionInfo": {
     "elapsed": 848,
     "status": "ok",
     "timestamp": 1613520452472,
     "user": {
      "displayName": "Yutong Dai",
      "photoUrl": "",
      "userId": "05937299442661106411"
     },
     "user_tz": 300
    },
    "id": "AcvboJbfqT0U",
    "outputId": "39ba1ce3-5d53-4858-aa86-6a6289c9cd4f"
   },
   "outputs": [
    {
     "name": "stdout",
     "output_type": "stream",
     "text": [
      "Classification accuracy:0.88120 | Macro-F1 score:0.87962\n"
     ]
    }
   ],
   "source": [
    "modelPath = modelDir+ '{}.pkl'.format('decisionTree')\n",
    "with open(modelPath,\"rb\") as f:\n",
    "  dtreeBest = pickle.load(f)\n",
    "Ypred = dtreeBest.predict(Xtest)\n",
    "print(f'Classification accuracy:{accuracy_score(Ypred, Ytest):6.5f} | Macro-F1 score:{f1_score(Ypred, Ytest, average=\"macro\"):6.5f}')"
   ]
  },
  {
   "cell_type": "markdown",
   "metadata": {
    "id": "u5EY3C4AqPIA"
   },
   "source": [
    "## Gradient Boosting"
   ]
  },
  {
   "cell_type": "code",
   "execution_count": 7,
   "metadata": {
    "colab": {
     "base_uri": "https://localhost:8080/"
    },
    "execution": {
     "iopub.execute_input": "2021-02-18T02:24:39.331605Z",
     "iopub.status.busy": "2021-02-18T02:24:39.331251Z",
     "iopub.status.idle": "2021-02-18T02:24:39.955967Z",
     "shell.execute_reply": "2021-02-18T02:24:39.954960Z",
     "shell.execute_reply.started": "2021-02-18T02:24:39.331466Z"
    },
    "executionInfo": {
     "elapsed": 1382,
     "status": "ok",
     "timestamp": 1613520454989,
     "user": {
      "displayName": "Yutong Dai",
      "photoUrl": "",
      "userId": "05937299442661106411"
     },
     "user_tz": 300
    },
    "id": "G9BUVGBAqOH2",
    "outputId": "90c839ee-0cd4-4457-a1b7-ddc24a881a1e"
   },
   "outputs": [
    {
     "name": "stdout",
     "output_type": "stream",
     "text": [
      "Classification accuracy:0.94580 | Macro-F1 score:0.94528\n"
     ]
    }
   ],
   "source": [
    "modelPath = modelDir+ '{}.pkl'.format('gradientBoosting')\n",
    "with open(modelPath,\"rb\") as f:\n",
    "  gbBest = pickle.load(f)\n",
    "Ypred = gbBest.predict(Xtest)\n",
    "print(f'Classification accuracy:{accuracy_score(Ypred, Ytest):6.5f} | Macro-F1 score:{f1_score(Ypred, Ytest, average=\"macro\"):6.5f}')"
   ]
  },
  {
   "cell_type": "markdown",
   "metadata": {
    "id": "pcHguCuUHLVJ"
   },
   "source": [
    "## Naive Bayes - Gasussian"
   ]
  },
  {
   "cell_type": "code",
   "execution_count": 8,
   "metadata": {
    "colab": {
     "base_uri": "https://localhost:8080/"
    },
    "execution": {
     "iopub.execute_input": "2021-02-18T02:24:41.109359Z",
     "iopub.status.busy": "2021-02-18T02:24:41.108916Z",
     "iopub.status.idle": "2021-02-18T02:24:41.996197Z",
     "shell.execute_reply": "2021-02-18T02:24:41.994927Z",
     "shell.execute_reply.started": "2021-02-18T02:24:41.109169Z"
    },
    "executionInfo": {
     "elapsed": 1271,
     "status": "ok",
     "timestamp": 1613520457750,
     "user": {
      "displayName": "Yutong Dai",
      "photoUrl": "",
      "userId": "05937299442661106411"
     },
     "user_tz": 300
    },
    "id": "-EPES_8vqOYi",
    "outputId": "6e084bdc-05b2-48cd-fc07-d2605f23c97c"
   },
   "outputs": [
    {
     "name": "stdout",
     "output_type": "stream",
     "text": [
      "Classification accuracy:0.81400 | Macro-F1 score:0.81235\n"
     ]
    }
   ],
   "source": [
    "modelPath = modelDir+ '{}.pkl'.format('GaussianNB')\n",
    "with open(modelPath,\"rb\") as f:\n",
    "  nbBest = pickle.load(f)\n",
    "Ypred = nbBest.predict(Xtest)\n",
    "print(f'Classification accuracy:{accuracy_score(Ypred, Ytest):6.5f} | Macro-F1 score:{f1_score(Ypred, Ytest, average=\"macro\"):6.5f}')"
   ]
  },
  {
   "source": [
    "## twoLayered NN"
   ],
   "cell_type": "markdown",
   "metadata": {}
  },
  {
   "cell_type": "code",
   "execution_count": 29,
   "metadata": {},
   "outputs": [
    {
     "output_type": "execute_result",
     "data": {
      "text/plain": [
       "<All keys matched successfully>"
      ]
     },
     "metadata": {},
     "execution_count": 29
    }
   ],
   "source": [
    "D_in, H, D_out = width*height, 200, 10\n",
    "net = twoLayerNN(D_in, H, D_out)\n",
    "criterion = torch.nn.CrossEntropyLoss()\n",
    "# I trained with torch.nn.DataParallel\n",
    "net = torch.nn.DataParallel(net)\n",
    "netname=f'twoLayerW{H}'\n",
    "modelPath = modelDir+ 'best-{}-checkpoint.pth.tar'.format(netname)\n",
    "checkpoint = torch.load(modelPath, map_location=torch.device('cpu'))\n",
    "net.load_state_dict(checkpoint['state_dict'])\n",
    "test_loss, test_accuracy = _test_cpu(net, testloader, criterion, vectorize=True)\n",
    "print(f'For the loaded net: testing loss: {test_loss:5.4f} | testing accuracy:[{test_accuracy:5.4f}]')\n",
    "print(f'Recorded          : testing loss: {testing_loss_seq[-1]:5.4f} | testing accuracy:[{testing_accuracy_seq[-1]:5.4f}]')\n"
   ]
  },
  {
   "cell_type": "code",
   "execution_count": 17,
   "metadata": {},
   "outputs": [
    {
     "output_type": "display_data",
     "data": {
      "text/plain": "<Figure size 1080x360 with 2 Axes>",
      "image/svg+xml": "<?xml version=\"1.0\" encoding=\"utf-8\" standalone=\"no\"?>\n<!DOCTYPE svg PUBLIC \"-//W3C//DTD SVG 1.1//EN\"\n  \"http://www.w3.org/Graphics/SVG/1.1/DTD/svg11.dtd\">\n<!-- Created with matplotlib (https://matplotlib.org/) -->\n<svg height=\"302.878125pt\" version=\"1.1\" viewBox=\"0 0 874.303125 302.878125\" width=\"874.303125pt\" xmlns=\"http://www.w3.org/2000/svg\" xmlns:xlink=\"http://www.w3.org/1999/xlink\">\n <defs>\n  <style type=\"text/css\">\n*{stroke-linecap:butt;stroke-linejoin:round;}\n  </style>\n </defs>\n <g id=\"figure_1\">\n  <g id=\"patch_1\">\n   <path d=\"M 0 302.878125 \nL 874.303125 302.878125 \nL 874.303125 0 \nL 0 0 \nz\n\" style=\"fill:none;\"/>\n  </g>\n  <g id=\"axes_1\">\n   <g id=\"patch_2\">\n    <path d=\"M 30.103125 279 \nL 410.55767 279 \nL 410.55767 7.2 \nL 30.103125 7.2 \nz\n\" style=\"fill:#ffffff;\"/>\n   </g>\n   <g id=\"matplotlib.axis_1\">\n    <g id=\"xtick_1\">\n     <g id=\"line2d_1\">\n      <defs>\n       <path d=\"M 0 0 \nL 0 3.5 \n\" id=\"m4f2442988a\" style=\"stroke:#000000;stroke-width:0.8;\"/>\n      </defs>\n      <g>\n       <use style=\"stroke:#000000;stroke-width:0.8;\" x=\"47.396513\" xlink:href=\"#m4f2442988a\" y=\"279\"/>\n      </g>\n     </g>\n     <g id=\"text_1\">\n      <!-- 0.0 -->\n      <defs>\n       <path d=\"M 31.78125 66.40625 \nQ 24.171875 66.40625 20.328125 58.90625 \nQ 16.5 51.421875 16.5 36.375 \nQ 16.5 21.390625 20.328125 13.890625 \nQ 24.171875 6.390625 31.78125 6.390625 \nQ 39.453125 6.390625 43.28125 13.890625 \nQ 47.125 21.390625 47.125 36.375 \nQ 47.125 51.421875 43.28125 58.90625 \nQ 39.453125 66.40625 31.78125 66.40625 \nz\nM 31.78125 74.21875 \nQ 44.046875 74.21875 50.515625 64.515625 \nQ 56.984375 54.828125 56.984375 36.375 \nQ 56.984375 17.96875 50.515625 8.265625 \nQ 44.046875 -1.421875 31.78125 -1.421875 \nQ 19.53125 -1.421875 13.0625 8.265625 \nQ 6.59375 17.96875 6.59375 36.375 \nQ 6.59375 54.828125 13.0625 64.515625 \nQ 19.53125 74.21875 31.78125 74.21875 \nz\n\" id=\"DejaVuSans-48\"/>\n       <path d=\"M 10.6875 12.40625 \nL 21 12.40625 \nL 21 0 \nL 10.6875 0 \nz\n\" id=\"DejaVuSans-46\"/>\n      </defs>\n      <g transform=\"translate(39.444951 293.598438)scale(0.1 -0.1)\">\n       <use xlink:href=\"#DejaVuSans-48\"/>\n       <use x=\"63.623047\" xlink:href=\"#DejaVuSans-46\"/>\n       <use x=\"95.410156\" xlink:href=\"#DejaVuSans-48\"/>\n      </g>\n     </g>\n    </g>\n    <g id=\"xtick_2\">\n     <g id=\"line2d_2\">\n      <g>\n       <use style=\"stroke:#000000;stroke-width:0.8;\" x=\"92.90543\" xlink:href=\"#m4f2442988a\" y=\"279\"/>\n      </g>\n     </g>\n     <g id=\"text_2\">\n      <!-- 2.5 -->\n      <defs>\n       <path d=\"M 19.1875 8.296875 \nL 53.609375 8.296875 \nL 53.609375 0 \nL 7.328125 0 \nL 7.328125 8.296875 \nQ 12.9375 14.109375 22.625 23.890625 \nQ 32.328125 33.6875 34.8125 36.53125 \nQ 39.546875 41.84375 41.421875 45.53125 \nQ 43.3125 49.21875 43.3125 52.78125 \nQ 43.3125 58.59375 39.234375 62.25 \nQ 35.15625 65.921875 28.609375 65.921875 \nQ 23.96875 65.921875 18.8125 64.3125 \nQ 13.671875 62.703125 7.8125 59.421875 \nL 7.8125 69.390625 \nQ 13.765625 71.78125 18.9375 73 \nQ 24.125 74.21875 28.421875 74.21875 \nQ 39.75 74.21875 46.484375 68.546875 \nQ 53.21875 62.890625 53.21875 53.421875 \nQ 53.21875 48.921875 51.53125 44.890625 \nQ 49.859375 40.875 45.40625 35.40625 \nQ 44.1875 33.984375 37.640625 27.21875 \nQ 31.109375 20.453125 19.1875 8.296875 \nz\n\" id=\"DejaVuSans-50\"/>\n       <path d=\"M 10.796875 72.90625 \nL 49.515625 72.90625 \nL 49.515625 64.59375 \nL 19.828125 64.59375 \nL 19.828125 46.734375 \nQ 21.96875 47.46875 24.109375 47.828125 \nQ 26.265625 48.1875 28.421875 48.1875 \nQ 40.625 48.1875 47.75 41.5 \nQ 54.890625 34.8125 54.890625 23.390625 \nQ 54.890625 11.625 47.5625 5.09375 \nQ 40.234375 -1.421875 26.90625 -1.421875 \nQ 22.3125 -1.421875 17.546875 -0.640625 \nQ 12.796875 0.140625 7.71875 1.703125 \nL 7.71875 11.625 \nQ 12.109375 9.234375 16.796875 8.0625 \nQ 21.484375 6.890625 26.703125 6.890625 \nQ 35.15625 6.890625 40.078125 11.328125 \nQ 45.015625 15.765625 45.015625 23.390625 \nQ 45.015625 31 40.078125 35.4375 \nQ 35.15625 39.890625 26.703125 39.890625 \nQ 22.75 39.890625 18.8125 39.015625 \nQ 14.890625 38.140625 10.796875 36.28125 \nz\n\" id=\"DejaVuSans-53\"/>\n      </defs>\n      <g transform=\"translate(84.953868 293.598438)scale(0.1 -0.1)\">\n       <use xlink:href=\"#DejaVuSans-50\"/>\n       <use x=\"63.623047\" xlink:href=\"#DejaVuSans-46\"/>\n       <use x=\"95.410156\" xlink:href=\"#DejaVuSans-53\"/>\n      </g>\n     </g>\n    </g>\n    <g id=\"xtick_3\">\n     <g id=\"line2d_3\">\n      <g>\n       <use style=\"stroke:#000000;stroke-width:0.8;\" x=\"138.414347\" xlink:href=\"#m4f2442988a\" y=\"279\"/>\n      </g>\n     </g>\n     <g id=\"text_3\">\n      <!-- 5.0 -->\n      <g transform=\"translate(130.462785 293.598438)scale(0.1 -0.1)\">\n       <use xlink:href=\"#DejaVuSans-53\"/>\n       <use x=\"63.623047\" xlink:href=\"#DejaVuSans-46\"/>\n       <use x=\"95.410156\" xlink:href=\"#DejaVuSans-48\"/>\n      </g>\n     </g>\n    </g>\n    <g id=\"xtick_4\">\n     <g id=\"line2d_4\">\n      <g>\n       <use style=\"stroke:#000000;stroke-width:0.8;\" x=\"183.923264\" xlink:href=\"#m4f2442988a\" y=\"279\"/>\n      </g>\n     </g>\n     <g id=\"text_4\">\n      <!-- 7.5 -->\n      <defs>\n       <path d=\"M 8.203125 72.90625 \nL 55.078125 72.90625 \nL 55.078125 68.703125 \nL 28.609375 0 \nL 18.3125 0 \nL 43.21875 64.59375 \nL 8.203125 64.59375 \nz\n\" id=\"DejaVuSans-55\"/>\n      </defs>\n      <g transform=\"translate(175.971702 293.598438)scale(0.1 -0.1)\">\n       <use xlink:href=\"#DejaVuSans-55\"/>\n       <use x=\"63.623047\" xlink:href=\"#DejaVuSans-46\"/>\n       <use x=\"95.410156\" xlink:href=\"#DejaVuSans-53\"/>\n      </g>\n     </g>\n    </g>\n    <g id=\"xtick_5\">\n     <g id=\"line2d_5\">\n      <g>\n       <use style=\"stroke:#000000;stroke-width:0.8;\" x=\"229.432181\" xlink:href=\"#m4f2442988a\" y=\"279\"/>\n      </g>\n     </g>\n     <g id=\"text_5\">\n      <!-- 10.0 -->\n      <defs>\n       <path d=\"M 12.40625 8.296875 \nL 28.515625 8.296875 \nL 28.515625 63.921875 \nL 10.984375 60.40625 \nL 10.984375 69.390625 \nL 28.421875 72.90625 \nL 38.28125 72.90625 \nL 38.28125 8.296875 \nL 54.390625 8.296875 \nL 54.390625 0 \nL 12.40625 0 \nz\n\" id=\"DejaVuSans-49\"/>\n      </defs>\n      <g transform=\"translate(218.299369 293.598438)scale(0.1 -0.1)\">\n       <use xlink:href=\"#DejaVuSans-49\"/>\n       <use x=\"63.623047\" xlink:href=\"#DejaVuSans-48\"/>\n       <use x=\"127.246094\" xlink:href=\"#DejaVuSans-46\"/>\n       <use x=\"159.033203\" xlink:href=\"#DejaVuSans-48\"/>\n      </g>\n     </g>\n    </g>\n    <g id=\"xtick_6\">\n     <g id=\"line2d_6\">\n      <g>\n       <use style=\"stroke:#000000;stroke-width:0.8;\" x=\"274.941098\" xlink:href=\"#m4f2442988a\" y=\"279\"/>\n      </g>\n     </g>\n     <g id=\"text_6\">\n      <!-- 12.5 -->\n      <g transform=\"translate(263.808286 293.598438)scale(0.1 -0.1)\">\n       <use xlink:href=\"#DejaVuSans-49\"/>\n       <use x=\"63.623047\" xlink:href=\"#DejaVuSans-50\"/>\n       <use x=\"127.246094\" xlink:href=\"#DejaVuSans-46\"/>\n       <use x=\"159.033203\" xlink:href=\"#DejaVuSans-53\"/>\n      </g>\n     </g>\n    </g>\n    <g id=\"xtick_7\">\n     <g id=\"line2d_7\">\n      <g>\n       <use style=\"stroke:#000000;stroke-width:0.8;\" x=\"320.450015\" xlink:href=\"#m4f2442988a\" y=\"279\"/>\n      </g>\n     </g>\n     <g id=\"text_7\">\n      <!-- 15.0 -->\n      <g transform=\"translate(309.317202 293.598438)scale(0.1 -0.1)\">\n       <use xlink:href=\"#DejaVuSans-49\"/>\n       <use x=\"63.623047\" xlink:href=\"#DejaVuSans-53\"/>\n       <use x=\"127.246094\" xlink:href=\"#DejaVuSans-46\"/>\n       <use x=\"159.033203\" xlink:href=\"#DejaVuSans-48\"/>\n      </g>\n     </g>\n    </g>\n    <g id=\"xtick_8\">\n     <g id=\"line2d_8\">\n      <g>\n       <use style=\"stroke:#000000;stroke-width:0.8;\" x=\"365.958932\" xlink:href=\"#m4f2442988a\" y=\"279\"/>\n      </g>\n     </g>\n     <g id=\"text_8\">\n      <!-- 17.5 -->\n      <g transform=\"translate(354.826119 293.598438)scale(0.1 -0.1)\">\n       <use xlink:href=\"#DejaVuSans-49\"/>\n       <use x=\"63.623047\" xlink:href=\"#DejaVuSans-55\"/>\n       <use x=\"127.246094\" xlink:href=\"#DejaVuSans-46\"/>\n       <use x=\"159.033203\" xlink:href=\"#DejaVuSans-53\"/>\n      </g>\n     </g>\n    </g>\n   </g>\n   <g id=\"matplotlib.axis_2\">\n    <g id=\"ytick_1\">\n     <g id=\"line2d_9\">\n      <defs>\n       <path d=\"M 0 0 \nL -3.5 0 \n\" id=\"me2cbe308f7\" style=\"stroke:#000000;stroke-width:0.8;\"/>\n      </defs>\n      <g>\n       <use style=\"stroke:#000000;stroke-width:0.8;\" x=\"30.103125\" xlink:href=\"#me2cbe308f7\" y=\"250.302451\"/>\n      </g>\n     </g>\n     <g id=\"text_9\">\n      <!-- 0.1 -->\n      <g transform=\"translate(7.2 254.101669)scale(0.1 -0.1)\">\n       <use xlink:href=\"#DejaVuSans-48\"/>\n       <use x=\"63.623047\" xlink:href=\"#DejaVuSans-46\"/>\n       <use x=\"95.410156\" xlink:href=\"#DejaVuSans-49\"/>\n      </g>\n     </g>\n    </g>\n    <g id=\"ytick_2\">\n     <g id=\"line2d_10\">\n      <g>\n       <use style=\"stroke:#000000;stroke-width:0.8;\" x=\"30.103125\" xlink:href=\"#me2cbe308f7\" y=\"205.714994\"/>\n      </g>\n     </g>\n     <g id=\"text_10\">\n      <!-- 0.2 -->\n      <g transform=\"translate(7.2 209.514213)scale(0.1 -0.1)\">\n       <use xlink:href=\"#DejaVuSans-48\"/>\n       <use x=\"63.623047\" xlink:href=\"#DejaVuSans-46\"/>\n       <use x=\"95.410156\" xlink:href=\"#DejaVuSans-50\"/>\n      </g>\n     </g>\n    </g>\n    <g id=\"ytick_3\">\n     <g id=\"line2d_11\">\n      <g>\n       <use style=\"stroke:#000000;stroke-width:0.8;\" x=\"30.103125\" xlink:href=\"#me2cbe308f7\" y=\"161.127537\"/>\n      </g>\n     </g>\n     <g id=\"text_11\">\n      <!-- 0.3 -->\n      <defs>\n       <path d=\"M 40.578125 39.3125 \nQ 47.65625 37.796875 51.625 33 \nQ 55.609375 28.21875 55.609375 21.1875 \nQ 55.609375 10.40625 48.1875 4.484375 \nQ 40.765625 -1.421875 27.09375 -1.421875 \nQ 22.515625 -1.421875 17.65625 -0.515625 \nQ 12.796875 0.390625 7.625 2.203125 \nL 7.625 11.71875 \nQ 11.71875 9.328125 16.59375 8.109375 \nQ 21.484375 6.890625 26.8125 6.890625 \nQ 36.078125 6.890625 40.9375 10.546875 \nQ 45.796875 14.203125 45.796875 21.1875 \nQ 45.796875 27.640625 41.28125 31.265625 \nQ 36.765625 34.90625 28.71875 34.90625 \nL 20.21875 34.90625 \nL 20.21875 43.015625 \nL 29.109375 43.015625 \nQ 36.375 43.015625 40.234375 45.921875 \nQ 44.09375 48.828125 44.09375 54.296875 \nQ 44.09375 59.90625 40.109375 62.90625 \nQ 36.140625 65.921875 28.71875 65.921875 \nQ 24.65625 65.921875 20.015625 65.03125 \nQ 15.375 64.15625 9.8125 62.3125 \nL 9.8125 71.09375 \nQ 15.4375 72.65625 20.34375 73.4375 \nQ 25.25 74.21875 29.59375 74.21875 \nQ 40.828125 74.21875 47.359375 69.109375 \nQ 53.90625 64.015625 53.90625 55.328125 \nQ 53.90625 49.265625 50.4375 45.09375 \nQ 46.96875 40.921875 40.578125 39.3125 \nz\n\" id=\"DejaVuSans-51\"/>\n      </defs>\n      <g transform=\"translate(7.2 164.926756)scale(0.1 -0.1)\">\n       <use xlink:href=\"#DejaVuSans-48\"/>\n       <use x=\"63.623047\" xlink:href=\"#DejaVuSans-46\"/>\n       <use x=\"95.410156\" xlink:href=\"#DejaVuSans-51\"/>\n      </g>\n     </g>\n    </g>\n    <g id=\"ytick_4\">\n     <g id=\"line2d_12\">\n      <g>\n       <use style=\"stroke:#000000;stroke-width:0.8;\" x=\"30.103125\" xlink:href=\"#me2cbe308f7\" y=\"116.54008\"/>\n      </g>\n     </g>\n     <g id=\"text_12\">\n      <!-- 0.4 -->\n      <defs>\n       <path d=\"M 37.796875 64.3125 \nL 12.890625 25.390625 \nL 37.796875 25.390625 \nz\nM 35.203125 72.90625 \nL 47.609375 72.90625 \nL 47.609375 25.390625 \nL 58.015625 25.390625 \nL 58.015625 17.1875 \nL 47.609375 17.1875 \nL 47.609375 0 \nL 37.796875 0 \nL 37.796875 17.1875 \nL 4.890625 17.1875 \nL 4.890625 26.703125 \nz\n\" id=\"DejaVuSans-52\"/>\n      </defs>\n      <g transform=\"translate(7.2 120.339299)scale(0.1 -0.1)\">\n       <use xlink:href=\"#DejaVuSans-48\"/>\n       <use x=\"63.623047\" xlink:href=\"#DejaVuSans-46\"/>\n       <use x=\"95.410156\" xlink:href=\"#DejaVuSans-52\"/>\n      </g>\n     </g>\n    </g>\n    <g id=\"ytick_5\">\n     <g id=\"line2d_13\">\n      <g>\n       <use style=\"stroke:#000000;stroke-width:0.8;\" x=\"30.103125\" xlink:href=\"#me2cbe308f7\" y=\"71.952624\"/>\n      </g>\n     </g>\n     <g id=\"text_13\">\n      <!-- 0.5 -->\n      <g transform=\"translate(7.2 75.751842)scale(0.1 -0.1)\">\n       <use xlink:href=\"#DejaVuSans-48\"/>\n       <use x=\"63.623047\" xlink:href=\"#DejaVuSans-46\"/>\n       <use x=\"95.410156\" xlink:href=\"#DejaVuSans-53\"/>\n      </g>\n     </g>\n    </g>\n    <g id=\"ytick_6\">\n     <g id=\"line2d_14\">\n      <g>\n       <use style=\"stroke:#000000;stroke-width:0.8;\" x=\"30.103125\" xlink:href=\"#me2cbe308f7\" y=\"27.365167\"/>\n      </g>\n     </g>\n     <g id=\"text_14\">\n      <!-- 0.6 -->\n      <defs>\n       <path d=\"M 33.015625 40.375 \nQ 26.375 40.375 22.484375 35.828125 \nQ 18.609375 31.296875 18.609375 23.390625 \nQ 18.609375 15.53125 22.484375 10.953125 \nQ 26.375 6.390625 33.015625 6.390625 \nQ 39.65625 6.390625 43.53125 10.953125 \nQ 47.40625 15.53125 47.40625 23.390625 \nQ 47.40625 31.296875 43.53125 35.828125 \nQ 39.65625 40.375 33.015625 40.375 \nz\nM 52.59375 71.296875 \nL 52.59375 62.3125 \nQ 48.875 64.0625 45.09375 64.984375 \nQ 41.3125 65.921875 37.59375 65.921875 \nQ 27.828125 65.921875 22.671875 59.328125 \nQ 17.53125 52.734375 16.796875 39.40625 \nQ 19.671875 43.65625 24.015625 45.921875 \nQ 28.375 48.1875 33.59375 48.1875 \nQ 44.578125 48.1875 50.953125 41.515625 \nQ 57.328125 34.859375 57.328125 23.390625 \nQ 57.328125 12.15625 50.6875 5.359375 \nQ 44.046875 -1.421875 33.015625 -1.421875 \nQ 20.359375 -1.421875 13.671875 8.265625 \nQ 6.984375 17.96875 6.984375 36.375 \nQ 6.984375 53.65625 15.1875 63.9375 \nQ 23.390625 74.21875 37.203125 74.21875 \nQ 40.921875 74.21875 44.703125 73.484375 \nQ 48.484375 72.75 52.59375 71.296875 \nz\n\" id=\"DejaVuSans-54\"/>\n      </defs>\n      <g transform=\"translate(7.2 31.164386)scale(0.1 -0.1)\">\n       <use xlink:href=\"#DejaVuSans-48\"/>\n       <use x=\"63.623047\" xlink:href=\"#DejaVuSans-46\"/>\n       <use x=\"95.410156\" xlink:href=\"#DejaVuSans-54\"/>\n      </g>\n     </g>\n    </g>\n   </g>\n   <g id=\"line2d_15\">\n    <path clip-path=\"url(#p68e93bf8ab)\" d=\"M 47.396513 19.554545 \nL 65.60008 141.803515 \nL 83.803647 177.687611 \nL 102.007214 97.367054 \nL 120.210781 184.302712 \nL 138.414347 119.023836 \nL 156.617914 42.23273 \nL 174.821481 171.730344 \nL 193.025048 240.844221 \nL 211.228614 205.165237 \nL 229.432181 193.106355 \nL 247.635748 196.806466 \nL 265.839315 154.083684 \nL 284.042881 150.307021 \nL 302.246448 221.823509 \nL 320.450015 192.871468 \nL 338.653582 238.674351 \nL 356.857148 118.361663 \nL 375.060715 204.077832 \nL 393.264282 216.711192 \n\" style=\"fill:none;stroke:#0000ff;stroke-linecap:square;\"/>\n    <defs>\n     <path d=\"M 0 1.5 \nC 0.397805 1.5 0.77937 1.341951 1.06066 1.06066 \nC 1.341951 0.77937 1.5 0.397805 1.5 0 \nC 1.5 -0.397805 1.341951 -0.77937 1.06066 -1.06066 \nC 0.77937 -1.341951 0.397805 -1.5 0 -1.5 \nC -0.397805 -1.5 -0.77937 -1.341951 -1.06066 -1.06066 \nC -1.341951 -0.77937 -1.5 -0.397805 -1.5 0 \nC -1.5 0.397805 -1.341951 0.77937 -1.06066 1.06066 \nC -0.77937 1.341951 -0.397805 1.5 0 1.5 \nz\n\" id=\"m7ef591f093\" style=\"stroke:#0000ff;\"/>\n    </defs>\n    <g clip-path=\"url(#p68e93bf8ab)\">\n     <use style=\"fill:#0000ff;stroke:#0000ff;\" x=\"47.396513\" xlink:href=\"#m7ef591f093\" y=\"19.554545\"/>\n     <use style=\"fill:#0000ff;stroke:#0000ff;\" x=\"65.60008\" xlink:href=\"#m7ef591f093\" y=\"141.803515\"/>\n     <use style=\"fill:#0000ff;stroke:#0000ff;\" x=\"83.803647\" xlink:href=\"#m7ef591f093\" y=\"177.687611\"/>\n     <use style=\"fill:#0000ff;stroke:#0000ff;\" x=\"102.007214\" xlink:href=\"#m7ef591f093\" y=\"97.367054\"/>\n     <use style=\"fill:#0000ff;stroke:#0000ff;\" x=\"120.210781\" xlink:href=\"#m7ef591f093\" y=\"184.302712\"/>\n     <use style=\"fill:#0000ff;stroke:#0000ff;\" x=\"138.414347\" xlink:href=\"#m7ef591f093\" y=\"119.023836\"/>\n     <use style=\"fill:#0000ff;stroke:#0000ff;\" x=\"156.617914\" xlink:href=\"#m7ef591f093\" y=\"42.23273\"/>\n     <use style=\"fill:#0000ff;stroke:#0000ff;\" x=\"174.821481\" xlink:href=\"#m7ef591f093\" y=\"171.730344\"/>\n     <use style=\"fill:#0000ff;stroke:#0000ff;\" x=\"193.025048\" xlink:href=\"#m7ef591f093\" y=\"240.844221\"/>\n     <use style=\"fill:#0000ff;stroke:#0000ff;\" x=\"211.228614\" xlink:href=\"#m7ef591f093\" y=\"205.165237\"/>\n     <use style=\"fill:#0000ff;stroke:#0000ff;\" x=\"229.432181\" xlink:href=\"#m7ef591f093\" y=\"193.106355\"/>\n     <use style=\"fill:#0000ff;stroke:#0000ff;\" x=\"247.635748\" xlink:href=\"#m7ef591f093\" y=\"196.806466\"/>\n     <use style=\"fill:#0000ff;stroke:#0000ff;\" x=\"265.839315\" xlink:href=\"#m7ef591f093\" y=\"154.083684\"/>\n     <use style=\"fill:#0000ff;stroke:#0000ff;\" x=\"284.042881\" xlink:href=\"#m7ef591f093\" y=\"150.307021\"/>\n     <use style=\"fill:#0000ff;stroke:#0000ff;\" x=\"302.246448\" xlink:href=\"#m7ef591f093\" y=\"221.823509\"/>\n     <use style=\"fill:#0000ff;stroke:#0000ff;\" x=\"320.450015\" xlink:href=\"#m7ef591f093\" y=\"192.871468\"/>\n     <use style=\"fill:#0000ff;stroke:#0000ff;\" x=\"338.653582\" xlink:href=\"#m7ef591f093\" y=\"238.674351\"/>\n     <use style=\"fill:#0000ff;stroke:#0000ff;\" x=\"356.857148\" xlink:href=\"#m7ef591f093\" y=\"118.361663\"/>\n     <use style=\"fill:#0000ff;stroke:#0000ff;\" x=\"375.060715\" xlink:href=\"#m7ef591f093\" y=\"204.077832\"/>\n     <use style=\"fill:#0000ff;stroke:#0000ff;\" x=\"393.264282\" xlink:href=\"#m7ef591f093\" y=\"216.711192\"/>\n    </g>\n   </g>\n   <g id=\"line2d_16\">\n    <path clip-path=\"url(#p68e93bf8ab)\" d=\"M 47.396513 139.899238 \nL 65.60008 202.100105 \nL 83.803647 207.123199 \nL 102.007214 219.422874 \nL 120.210781 224.578331 \nL 138.414347 226.484156 \nL 156.617914 227.51031 \nL 174.821481 228.133016 \nL 193.025048 221.245942 \nL 211.228614 235.543848 \nL 229.432181 244.526287 \nL 247.635748 249.023172 \nL 265.839315 247.689345 \nL 284.042881 255.168123 \nL 302.246448 253.560452 \nL 320.450015 260.969374 \nL 338.653582 265.403828 \nL 356.857148 261.731031 \nL 375.060715 265.726337 \nL 393.264282 266.645455 \n\" style=\"fill:none;stroke:#ff0000;stroke-linecap:square;\"/>\n    <defs>\n     <path d=\"M 0 -3 \nL -0.673542 -0.927051 \nL -2.85317 -0.927051 \nL -1.089814 0.354102 \nL -1.763356 2.427051 \nL -0 1.145898 \nL 1.763356 2.427051 \nL 1.089814 0.354102 \nL 2.85317 -0.927051 \nL 0.673542 -0.927051 \nz\n\" id=\"m4a31531b5c\" style=\"stroke:#ff0000;stroke-linejoin:bevel;\"/>\n    </defs>\n    <g clip-path=\"url(#p68e93bf8ab)\">\n     <use style=\"fill:#ff0000;stroke:#ff0000;stroke-linejoin:bevel;\" x=\"47.396513\" xlink:href=\"#m4a31531b5c\" y=\"139.899238\"/>\n     <use style=\"fill:#ff0000;stroke:#ff0000;stroke-linejoin:bevel;\" x=\"65.60008\" xlink:href=\"#m4a31531b5c\" y=\"202.100105\"/>\n     <use style=\"fill:#ff0000;stroke:#ff0000;stroke-linejoin:bevel;\" x=\"83.803647\" xlink:href=\"#m4a31531b5c\" y=\"207.123199\"/>\n     <use style=\"fill:#ff0000;stroke:#ff0000;stroke-linejoin:bevel;\" x=\"102.007214\" xlink:href=\"#m4a31531b5c\" y=\"219.422874\"/>\n     <use style=\"fill:#ff0000;stroke:#ff0000;stroke-linejoin:bevel;\" x=\"120.210781\" xlink:href=\"#m4a31531b5c\" y=\"224.578331\"/>\n     <use style=\"fill:#ff0000;stroke:#ff0000;stroke-linejoin:bevel;\" x=\"138.414347\" xlink:href=\"#m4a31531b5c\" y=\"226.484156\"/>\n     <use style=\"fill:#ff0000;stroke:#ff0000;stroke-linejoin:bevel;\" x=\"156.617914\" xlink:href=\"#m4a31531b5c\" y=\"227.51031\"/>\n     <use style=\"fill:#ff0000;stroke:#ff0000;stroke-linejoin:bevel;\" x=\"174.821481\" xlink:href=\"#m4a31531b5c\" y=\"228.133016\"/>\n     <use style=\"fill:#ff0000;stroke:#ff0000;stroke-linejoin:bevel;\" x=\"193.025048\" xlink:href=\"#m4a31531b5c\" y=\"221.245942\"/>\n     <use style=\"fill:#ff0000;stroke:#ff0000;stroke-linejoin:bevel;\" x=\"211.228614\" xlink:href=\"#m4a31531b5c\" y=\"235.543848\"/>\n     <use style=\"fill:#ff0000;stroke:#ff0000;stroke-linejoin:bevel;\" x=\"229.432181\" xlink:href=\"#m4a31531b5c\" y=\"244.526287\"/>\n     <use style=\"fill:#ff0000;stroke:#ff0000;stroke-linejoin:bevel;\" x=\"247.635748\" xlink:href=\"#m4a31531b5c\" y=\"249.023172\"/>\n     <use style=\"fill:#ff0000;stroke:#ff0000;stroke-linejoin:bevel;\" x=\"265.839315\" xlink:href=\"#m4a31531b5c\" y=\"247.689345\"/>\n     <use style=\"fill:#ff0000;stroke:#ff0000;stroke-linejoin:bevel;\" x=\"284.042881\" xlink:href=\"#m4a31531b5c\" y=\"255.168123\"/>\n     <use style=\"fill:#ff0000;stroke:#ff0000;stroke-linejoin:bevel;\" x=\"302.246448\" xlink:href=\"#m4a31531b5c\" y=\"253.560452\"/>\n     <use style=\"fill:#ff0000;stroke:#ff0000;stroke-linejoin:bevel;\" x=\"320.450015\" xlink:href=\"#m4a31531b5c\" y=\"260.969374\"/>\n     <use style=\"fill:#ff0000;stroke:#ff0000;stroke-linejoin:bevel;\" x=\"338.653582\" xlink:href=\"#m4a31531b5c\" y=\"265.403828\"/>\n     <use style=\"fill:#ff0000;stroke:#ff0000;stroke-linejoin:bevel;\" x=\"356.857148\" xlink:href=\"#m4a31531b5c\" y=\"261.731031\"/>\n     <use style=\"fill:#ff0000;stroke:#ff0000;stroke-linejoin:bevel;\" x=\"375.060715\" xlink:href=\"#m4a31531b5c\" y=\"265.726337\"/>\n     <use style=\"fill:#ff0000;stroke:#ff0000;stroke-linejoin:bevel;\" x=\"393.264282\" xlink:href=\"#m4a31531b5c\" y=\"266.645455\"/>\n    </g>\n   </g>\n   <g id=\"patch_3\">\n    <path d=\"M 30.103125 279 \nL 30.103125 7.2 \n\" style=\"fill:none;stroke:#000000;stroke-linecap:square;stroke-linejoin:miter;stroke-width:0.8;\"/>\n   </g>\n   <g id=\"patch_4\">\n    <path d=\"M 410.55767 279 \nL 410.55767 7.2 \n\" style=\"fill:none;stroke:#000000;stroke-linecap:square;stroke-linejoin:miter;stroke-width:0.8;\"/>\n   </g>\n   <g id=\"patch_5\">\n    <path d=\"M 30.103125 279 \nL 410.55767 279 \n\" style=\"fill:none;stroke:#000000;stroke-linecap:square;stroke-linejoin:miter;stroke-width:0.8;\"/>\n   </g>\n   <g id=\"patch_6\">\n    <path d=\"M 30.103125 7.2 \nL 410.55767 7.2 \n\" style=\"fill:none;stroke:#000000;stroke-linecap:square;stroke-linejoin:miter;stroke-width:0.8;\"/>\n   </g>\n   <g id=\"legend_1\">\n    <g id=\"patch_7\">\n     <path d=\"M 325.78892 44.55625 \nL 403.55767 44.55625 \nQ 405.55767 44.55625 405.55767 42.55625 \nL 405.55767 14.2 \nQ 405.55767 12.2 403.55767 12.2 \nL 325.78892 12.2 \nQ 323.78892 12.2 323.78892 14.2 \nL 323.78892 42.55625 \nQ 323.78892 44.55625 325.78892 44.55625 \nz\n\" style=\"fill:#ffffff;opacity:0.8;stroke:#cccccc;stroke-linejoin:miter;\"/>\n    </g>\n    <g id=\"line2d_17\">\n     <path d=\"M 327.78892 20.298438 \nL 347.78892 20.298438 \n\" style=\"fill:none;stroke:#0000ff;stroke-linecap:square;\"/>\n    </g>\n    <g id=\"line2d_18\">\n     <g>\n      <use style=\"fill:#0000ff;stroke:#0000ff;\" x=\"337.78892\" xlink:href=\"#m7ef591f093\" y=\"20.298438\"/>\n     </g>\n    </g>\n    <g id=\"text_15\">\n     <!-- train loss -->\n     <defs>\n      <path d=\"M 18.3125 70.21875 \nL 18.3125 54.6875 \nL 36.8125 54.6875 \nL 36.8125 47.703125 \nL 18.3125 47.703125 \nL 18.3125 18.015625 \nQ 18.3125 11.328125 20.140625 9.421875 \nQ 21.96875 7.515625 27.59375 7.515625 \nL 36.8125 7.515625 \nL 36.8125 0 \nL 27.59375 0 \nQ 17.1875 0 13.234375 3.875 \nQ 9.28125 7.765625 9.28125 18.015625 \nL 9.28125 47.703125 \nL 2.6875 47.703125 \nL 2.6875 54.6875 \nL 9.28125 54.6875 \nL 9.28125 70.21875 \nz\n\" id=\"DejaVuSans-116\"/>\n      <path d=\"M 41.109375 46.296875 \nQ 39.59375 47.171875 37.8125 47.578125 \nQ 36.03125 48 33.890625 48 \nQ 26.265625 48 22.1875 43.046875 \nQ 18.109375 38.09375 18.109375 28.8125 \nL 18.109375 0 \nL 9.078125 0 \nL 9.078125 54.6875 \nL 18.109375 54.6875 \nL 18.109375 46.1875 \nQ 20.953125 51.171875 25.484375 53.578125 \nQ 30.03125 56 36.53125 56 \nQ 37.453125 56 38.578125 55.875 \nQ 39.703125 55.765625 41.0625 55.515625 \nz\n\" id=\"DejaVuSans-114\"/>\n      <path d=\"M 34.28125 27.484375 \nQ 23.390625 27.484375 19.1875 25 \nQ 14.984375 22.515625 14.984375 16.5 \nQ 14.984375 11.71875 18.140625 8.90625 \nQ 21.296875 6.109375 26.703125 6.109375 \nQ 34.1875 6.109375 38.703125 11.40625 \nQ 43.21875 16.703125 43.21875 25.484375 \nL 43.21875 27.484375 \nz\nM 52.203125 31.203125 \nL 52.203125 0 \nL 43.21875 0 \nL 43.21875 8.296875 \nQ 40.140625 3.328125 35.546875 0.953125 \nQ 30.953125 -1.421875 24.3125 -1.421875 \nQ 15.921875 -1.421875 10.953125 3.296875 \nQ 6 8.015625 6 15.921875 \nQ 6 25.140625 12.171875 29.828125 \nQ 18.359375 34.515625 30.609375 34.515625 \nL 43.21875 34.515625 \nL 43.21875 35.40625 \nQ 43.21875 41.609375 39.140625 45 \nQ 35.0625 48.390625 27.6875 48.390625 \nQ 23 48.390625 18.546875 47.265625 \nQ 14.109375 46.140625 10.015625 43.890625 \nL 10.015625 52.203125 \nQ 14.9375 54.109375 19.578125 55.046875 \nQ 24.21875 56 28.609375 56 \nQ 40.484375 56 46.34375 49.84375 \nQ 52.203125 43.703125 52.203125 31.203125 \nz\n\" id=\"DejaVuSans-97\"/>\n      <path d=\"M 9.421875 54.6875 \nL 18.40625 54.6875 \nL 18.40625 0 \nL 9.421875 0 \nz\nM 9.421875 75.984375 \nL 18.40625 75.984375 \nL 18.40625 64.59375 \nL 9.421875 64.59375 \nz\n\" id=\"DejaVuSans-105\"/>\n      <path d=\"M 54.890625 33.015625 \nL 54.890625 0 \nL 45.90625 0 \nL 45.90625 32.71875 \nQ 45.90625 40.484375 42.875 44.328125 \nQ 39.84375 48.1875 33.796875 48.1875 \nQ 26.515625 48.1875 22.3125 43.546875 \nQ 18.109375 38.921875 18.109375 30.90625 \nL 18.109375 0 \nL 9.078125 0 \nL 9.078125 54.6875 \nL 18.109375 54.6875 \nL 18.109375 46.1875 \nQ 21.34375 51.125 25.703125 53.5625 \nQ 30.078125 56 35.796875 56 \nQ 45.21875 56 50.046875 50.171875 \nQ 54.890625 44.34375 54.890625 33.015625 \nz\n\" id=\"DejaVuSans-110\"/>\n      <path id=\"DejaVuSans-32\"/>\n      <path d=\"M 9.421875 75.984375 \nL 18.40625 75.984375 \nL 18.40625 0 \nL 9.421875 0 \nz\n\" id=\"DejaVuSans-108\"/>\n      <path d=\"M 30.609375 48.390625 \nQ 23.390625 48.390625 19.1875 42.75 \nQ 14.984375 37.109375 14.984375 27.296875 \nQ 14.984375 17.484375 19.15625 11.84375 \nQ 23.34375 6.203125 30.609375 6.203125 \nQ 37.796875 6.203125 41.984375 11.859375 \nQ 46.1875 17.53125 46.1875 27.296875 \nQ 46.1875 37.015625 41.984375 42.703125 \nQ 37.796875 48.390625 30.609375 48.390625 \nz\nM 30.609375 56 \nQ 42.328125 56 49.015625 48.375 \nQ 55.71875 40.765625 55.71875 27.296875 \nQ 55.71875 13.875 49.015625 6.21875 \nQ 42.328125 -1.421875 30.609375 -1.421875 \nQ 18.84375 -1.421875 12.171875 6.21875 \nQ 5.515625 13.875 5.515625 27.296875 \nQ 5.515625 40.765625 12.171875 48.375 \nQ 18.84375 56 30.609375 56 \nz\n\" id=\"DejaVuSans-111\"/>\n      <path d=\"M 44.28125 53.078125 \nL 44.28125 44.578125 \nQ 40.484375 46.53125 36.375 47.5 \nQ 32.28125 48.484375 27.875 48.484375 \nQ 21.1875 48.484375 17.84375 46.4375 \nQ 14.5 44.390625 14.5 40.28125 \nQ 14.5 37.15625 16.890625 35.375 \nQ 19.28125 33.59375 26.515625 31.984375 \nL 29.59375 31.296875 \nQ 39.15625 29.25 43.1875 25.515625 \nQ 47.21875 21.78125 47.21875 15.09375 \nQ 47.21875 7.46875 41.1875 3.015625 \nQ 35.15625 -1.421875 24.609375 -1.421875 \nQ 20.21875 -1.421875 15.453125 -0.5625 \nQ 10.6875 0.296875 5.421875 2 \nL 5.421875 11.28125 \nQ 10.40625 8.6875 15.234375 7.390625 \nQ 20.0625 6.109375 24.8125 6.109375 \nQ 31.15625 6.109375 34.5625 8.28125 \nQ 37.984375 10.453125 37.984375 14.40625 \nQ 37.984375 18.0625 35.515625 20.015625 \nQ 33.0625 21.96875 24.703125 23.78125 \nL 21.578125 24.515625 \nQ 13.234375 26.265625 9.515625 29.90625 \nQ 5.8125 33.546875 5.8125 39.890625 \nQ 5.8125 47.609375 11.28125 51.796875 \nQ 16.75 56 26.8125 56 \nQ 31.78125 56 36.171875 55.265625 \nQ 40.578125 54.546875 44.28125 53.078125 \nz\n\" id=\"DejaVuSans-115\"/>\n     </defs>\n     <g transform=\"translate(355.78892 23.798438)scale(0.1 -0.1)\">\n      <use xlink:href=\"#DejaVuSans-116\"/>\n      <use x=\"39.208984\" xlink:href=\"#DejaVuSans-114\"/>\n      <use x=\"80.322266\" xlink:href=\"#DejaVuSans-97\"/>\n      <use x=\"141.601562\" xlink:href=\"#DejaVuSans-105\"/>\n      <use x=\"169.384766\" xlink:href=\"#DejaVuSans-110\"/>\n      <use x=\"232.763672\" xlink:href=\"#DejaVuSans-32\"/>\n      <use x=\"264.550781\" xlink:href=\"#DejaVuSans-108\"/>\n      <use x=\"292.333984\" xlink:href=\"#DejaVuSans-111\"/>\n      <use x=\"353.515625\" xlink:href=\"#DejaVuSans-115\"/>\n      <use x=\"405.615234\" xlink:href=\"#DejaVuSans-115\"/>\n     </g>\n    </g>\n    <g id=\"line2d_19\">\n     <path d=\"M 327.78892 34.976563 \nL 347.78892 34.976563 \n\" style=\"fill:none;stroke:#ff0000;stroke-linecap:square;\"/>\n    </g>\n    <g id=\"line2d_20\">\n     <g>\n      <use style=\"fill:#ff0000;stroke:#ff0000;stroke-linejoin:bevel;\" x=\"337.78892\" xlink:href=\"#m4a31531b5c\" y=\"34.976563\"/>\n     </g>\n    </g>\n    <g id=\"text_16\">\n     <!-- test loss -->\n     <defs>\n      <path d=\"M 56.203125 29.59375 \nL 56.203125 25.203125 \nL 14.890625 25.203125 \nQ 15.484375 15.921875 20.484375 11.0625 \nQ 25.484375 6.203125 34.421875 6.203125 \nQ 39.59375 6.203125 44.453125 7.46875 \nQ 49.3125 8.734375 54.109375 11.28125 \nL 54.109375 2.78125 \nQ 49.265625 0.734375 44.1875 -0.34375 \nQ 39.109375 -1.421875 33.890625 -1.421875 \nQ 20.796875 -1.421875 13.15625 6.1875 \nQ 5.515625 13.8125 5.515625 26.8125 \nQ 5.515625 40.234375 12.765625 48.109375 \nQ 20.015625 56 32.328125 56 \nQ 43.359375 56 49.78125 48.890625 \nQ 56.203125 41.796875 56.203125 29.59375 \nz\nM 47.21875 32.234375 \nQ 47.125 39.59375 43.09375 43.984375 \nQ 39.0625 48.390625 32.421875 48.390625 \nQ 24.90625 48.390625 20.390625 44.140625 \nQ 15.875 39.890625 15.1875 32.171875 \nz\n\" id=\"DejaVuSans-101\"/>\n     </defs>\n     <g transform=\"translate(355.78892 38.476563)scale(0.1 -0.1)\">\n      <use xlink:href=\"#DejaVuSans-116\"/>\n      <use x=\"39.208984\" xlink:href=\"#DejaVuSans-101\"/>\n      <use x=\"100.732422\" xlink:href=\"#DejaVuSans-115\"/>\n      <use x=\"152.832031\" xlink:href=\"#DejaVuSans-116\"/>\n      <use x=\"192.041016\" xlink:href=\"#DejaVuSans-32\"/>\n      <use x=\"223.828125\" xlink:href=\"#DejaVuSans-108\"/>\n      <use x=\"251.611328\" xlink:href=\"#DejaVuSans-111\"/>\n      <use x=\"312.792969\" xlink:href=\"#DejaVuSans-115\"/>\n      <use x=\"364.892578\" xlink:href=\"#DejaVuSans-115\"/>\n     </g>\n    </g>\n   </g>\n  </g>\n  <g id=\"axes_2\">\n   <g id=\"patch_8\">\n    <path d=\"M 486.64858 279 \nL 867.103125 279 \nL 867.103125 7.2 \nL 486.64858 7.2 \nz\n\" style=\"fill:#ffffff;\"/>\n   </g>\n   <g id=\"matplotlib.axis_3\">\n    <g id=\"xtick_9\">\n     <g id=\"line2d_21\">\n      <g>\n       <use style=\"stroke:#000000;stroke-width:0.8;\" x=\"503.941968\" xlink:href=\"#m4f2442988a\" y=\"279\"/>\n      </g>\n     </g>\n     <g id=\"text_17\">\n      <!-- 0.0 -->\n      <g transform=\"translate(495.990405 293.598438)scale(0.1 -0.1)\">\n       <use xlink:href=\"#DejaVuSans-48\"/>\n       <use x=\"63.623047\" xlink:href=\"#DejaVuSans-46\"/>\n       <use x=\"95.410156\" xlink:href=\"#DejaVuSans-48\"/>\n      </g>\n     </g>\n    </g>\n    <g id=\"xtick_10\">\n     <g id=\"line2d_22\">\n      <g>\n       <use style=\"stroke:#000000;stroke-width:0.8;\" x=\"549.450885\" xlink:href=\"#m4f2442988a\" y=\"279\"/>\n      </g>\n     </g>\n     <g id=\"text_18\">\n      <!-- 2.5 -->\n      <g transform=\"translate(541.499322 293.598438)scale(0.1 -0.1)\">\n       <use xlink:href=\"#DejaVuSans-50\"/>\n       <use x=\"63.623047\" xlink:href=\"#DejaVuSans-46\"/>\n       <use x=\"95.410156\" xlink:href=\"#DejaVuSans-53\"/>\n      </g>\n     </g>\n    </g>\n    <g id=\"xtick_11\">\n     <g id=\"line2d_23\">\n      <g>\n       <use style=\"stroke:#000000;stroke-width:0.8;\" x=\"594.959802\" xlink:href=\"#m4f2442988a\" y=\"279\"/>\n      </g>\n     </g>\n     <g id=\"text_19\">\n      <!-- 5.0 -->\n      <g transform=\"translate(587.008239 293.598438)scale(0.1 -0.1)\">\n       <use xlink:href=\"#DejaVuSans-53\"/>\n       <use x=\"63.623047\" xlink:href=\"#DejaVuSans-46\"/>\n       <use x=\"95.410156\" xlink:href=\"#DejaVuSans-48\"/>\n      </g>\n     </g>\n    </g>\n    <g id=\"xtick_12\">\n     <g id=\"line2d_24\">\n      <g>\n       <use style=\"stroke:#000000;stroke-width:0.8;\" x=\"640.468719\" xlink:href=\"#m4f2442988a\" y=\"279\"/>\n      </g>\n     </g>\n     <g id=\"text_20\">\n      <!-- 7.5 -->\n      <g transform=\"translate(632.517156 293.598438)scale(0.1 -0.1)\">\n       <use xlink:href=\"#DejaVuSans-55\"/>\n       <use x=\"63.623047\" xlink:href=\"#DejaVuSans-46\"/>\n       <use x=\"95.410156\" xlink:href=\"#DejaVuSans-53\"/>\n      </g>\n     </g>\n    </g>\n    <g id=\"xtick_13\">\n     <g id=\"line2d_25\">\n      <g>\n       <use style=\"stroke:#000000;stroke-width:0.8;\" x=\"685.977636\" xlink:href=\"#m4f2442988a\" y=\"279\"/>\n      </g>\n     </g>\n     <g id=\"text_21\">\n      <!-- 10.0 -->\n      <g transform=\"translate(674.844823 293.598438)scale(0.1 -0.1)\">\n       <use xlink:href=\"#DejaVuSans-49\"/>\n       <use x=\"63.623047\" xlink:href=\"#DejaVuSans-48\"/>\n       <use x=\"127.246094\" xlink:href=\"#DejaVuSans-46\"/>\n       <use x=\"159.033203\" xlink:href=\"#DejaVuSans-48\"/>\n      </g>\n     </g>\n    </g>\n    <g id=\"xtick_14\">\n     <g id=\"line2d_26\">\n      <g>\n       <use style=\"stroke:#000000;stroke-width:0.8;\" x=\"731.486553\" xlink:href=\"#m4f2442988a\" y=\"279\"/>\n      </g>\n     </g>\n     <g id=\"text_22\">\n      <!-- 12.5 -->\n      <g transform=\"translate(720.35374 293.598438)scale(0.1 -0.1)\">\n       <use xlink:href=\"#DejaVuSans-49\"/>\n       <use x=\"63.623047\" xlink:href=\"#DejaVuSans-50\"/>\n       <use x=\"127.246094\" xlink:href=\"#DejaVuSans-46\"/>\n       <use x=\"159.033203\" xlink:href=\"#DejaVuSans-53\"/>\n      </g>\n     </g>\n    </g>\n    <g id=\"xtick_15\">\n     <g id=\"line2d_27\">\n      <g>\n       <use style=\"stroke:#000000;stroke-width:0.8;\" x=\"776.995469\" xlink:href=\"#m4f2442988a\" y=\"279\"/>\n      </g>\n     </g>\n     <g id=\"text_23\">\n      <!-- 15.0 -->\n      <g transform=\"translate(765.862657 293.598438)scale(0.1 -0.1)\">\n       <use xlink:href=\"#DejaVuSans-49\"/>\n       <use x=\"63.623047\" xlink:href=\"#DejaVuSans-53\"/>\n       <use x=\"127.246094\" xlink:href=\"#DejaVuSans-46\"/>\n       <use x=\"159.033203\" xlink:href=\"#DejaVuSans-48\"/>\n      </g>\n     </g>\n    </g>\n    <g id=\"xtick_16\">\n     <g id=\"line2d_28\">\n      <g>\n       <use style=\"stroke:#000000;stroke-width:0.8;\" x=\"822.504386\" xlink:href=\"#m4f2442988a\" y=\"279\"/>\n      </g>\n     </g>\n     <g id=\"text_24\">\n      <!-- 17.5 -->\n      <g transform=\"translate(811.371574 293.598438)scale(0.1 -0.1)\">\n       <use xlink:href=\"#DejaVuSans-49\"/>\n       <use x=\"63.623047\" xlink:href=\"#DejaVuSans-55\"/>\n       <use x=\"127.246094\" xlink:href=\"#DejaVuSans-46\"/>\n       <use x=\"159.033203\" xlink:href=\"#DejaVuSans-53\"/>\n      </g>\n     </g>\n    </g>\n   </g>\n   <g id=\"matplotlib.axis_4\">\n    <g id=\"ytick_7\">\n     <g id=\"line2d_29\">\n      <g>\n       <use style=\"stroke:#000000;stroke-width:0.8;\" x=\"486.64858\" xlink:href=\"#me2cbe308f7\" y=\"261.584656\"/>\n      </g>\n     </g>\n     <g id=\"text_25\">\n      <!-- 0.750 -->\n      <g transform=\"translate(451.020455 265.383875)scale(0.1 -0.1)\">\n       <use xlink:href=\"#DejaVuSans-48\"/>\n       <use x=\"63.623047\" xlink:href=\"#DejaVuSans-46\"/>\n       <use x=\"95.410156\" xlink:href=\"#DejaVuSans-55\"/>\n       <use x=\"159.033203\" xlink:href=\"#DejaVuSans-53\"/>\n       <use x=\"222.65625\" xlink:href=\"#DejaVuSans-48\"/>\n      </g>\n     </g>\n    </g>\n    <g id=\"ytick_8\">\n     <g id=\"line2d_30\">\n      <g>\n       <use style=\"stroke:#000000;stroke-width:0.8;\" x=\"486.64858\" xlink:href=\"#me2cbe308f7\" y=\"230.58365\"/>\n      </g>\n     </g>\n     <g id=\"text_26\">\n      <!-- 0.775 -->\n      <g transform=\"translate(451.020455 234.382868)scale(0.1 -0.1)\">\n       <use xlink:href=\"#DejaVuSans-48\"/>\n       <use x=\"63.623047\" xlink:href=\"#DejaVuSans-46\"/>\n       <use x=\"95.410156\" xlink:href=\"#DejaVuSans-55\"/>\n       <use x=\"159.033203\" xlink:href=\"#DejaVuSans-55\"/>\n       <use x=\"222.65625\" xlink:href=\"#DejaVuSans-53\"/>\n      </g>\n     </g>\n    </g>\n    <g id=\"ytick_9\">\n     <g id=\"line2d_31\">\n      <g>\n       <use style=\"stroke:#000000;stroke-width:0.8;\" x=\"486.64858\" xlink:href=\"#me2cbe308f7\" y=\"199.582644\"/>\n      </g>\n     </g>\n     <g id=\"text_27\">\n      <!-- 0.800 -->\n      <defs>\n       <path d=\"M 31.78125 34.625 \nQ 24.75 34.625 20.71875 30.859375 \nQ 16.703125 27.09375 16.703125 20.515625 \nQ 16.703125 13.921875 20.71875 10.15625 \nQ 24.75 6.390625 31.78125 6.390625 \nQ 38.8125 6.390625 42.859375 10.171875 \nQ 46.921875 13.96875 46.921875 20.515625 \nQ 46.921875 27.09375 42.890625 30.859375 \nQ 38.875 34.625 31.78125 34.625 \nz\nM 21.921875 38.8125 \nQ 15.578125 40.375 12.03125 44.71875 \nQ 8.5 49.078125 8.5 55.328125 \nQ 8.5 64.0625 14.71875 69.140625 \nQ 20.953125 74.21875 31.78125 74.21875 \nQ 42.671875 74.21875 48.875 69.140625 \nQ 55.078125 64.0625 55.078125 55.328125 \nQ 55.078125 49.078125 51.53125 44.71875 \nQ 48 40.375 41.703125 38.8125 \nQ 48.828125 37.15625 52.796875 32.3125 \nQ 56.78125 27.484375 56.78125 20.515625 \nQ 56.78125 9.90625 50.3125 4.234375 \nQ 43.84375 -1.421875 31.78125 -1.421875 \nQ 19.734375 -1.421875 13.25 4.234375 \nQ 6.78125 9.90625 6.78125 20.515625 \nQ 6.78125 27.484375 10.78125 32.3125 \nQ 14.796875 37.15625 21.921875 38.8125 \nz\nM 18.3125 54.390625 \nQ 18.3125 48.734375 21.84375 45.5625 \nQ 25.390625 42.390625 31.78125 42.390625 \nQ 38.140625 42.390625 41.71875 45.5625 \nQ 45.3125 48.734375 45.3125 54.390625 \nQ 45.3125 60.0625 41.71875 63.234375 \nQ 38.140625 66.40625 31.78125 66.40625 \nQ 25.390625 66.40625 21.84375 63.234375 \nQ 18.3125 60.0625 18.3125 54.390625 \nz\n\" id=\"DejaVuSans-56\"/>\n      </defs>\n      <g transform=\"translate(451.020455 203.381862)scale(0.1 -0.1)\">\n       <use xlink:href=\"#DejaVuSans-48\"/>\n       <use x=\"63.623047\" xlink:href=\"#DejaVuSans-46\"/>\n       <use x=\"95.410156\" xlink:href=\"#DejaVuSans-56\"/>\n       <use x=\"159.033203\" xlink:href=\"#DejaVuSans-48\"/>\n       <use x=\"222.65625\" xlink:href=\"#DejaVuSans-48\"/>\n      </g>\n     </g>\n    </g>\n    <g id=\"ytick_10\">\n     <g id=\"line2d_32\">\n      <g>\n       <use style=\"stroke:#000000;stroke-width:0.8;\" x=\"486.64858\" xlink:href=\"#me2cbe308f7\" y=\"168.581637\"/>\n      </g>\n     </g>\n     <g id=\"text_28\">\n      <!-- 0.825 -->\n      <g transform=\"translate(451.020455 172.380856)scale(0.1 -0.1)\">\n       <use xlink:href=\"#DejaVuSans-48\"/>\n       <use x=\"63.623047\" xlink:href=\"#DejaVuSans-46\"/>\n       <use x=\"95.410156\" xlink:href=\"#DejaVuSans-56\"/>\n       <use x=\"159.033203\" xlink:href=\"#DejaVuSans-50\"/>\n       <use x=\"222.65625\" xlink:href=\"#DejaVuSans-53\"/>\n      </g>\n     </g>\n    </g>\n    <g id=\"ytick_11\">\n     <g id=\"line2d_33\">\n      <g>\n       <use style=\"stroke:#000000;stroke-width:0.8;\" x=\"486.64858\" xlink:href=\"#me2cbe308f7\" y=\"137.580631\"/>\n      </g>\n     </g>\n     <g id=\"text_29\">\n      <!-- 0.850 -->\n      <g transform=\"translate(451.020455 141.37985)scale(0.1 -0.1)\">\n       <use xlink:href=\"#DejaVuSans-48\"/>\n       <use x=\"63.623047\" xlink:href=\"#DejaVuSans-46\"/>\n       <use x=\"95.410156\" xlink:href=\"#DejaVuSans-56\"/>\n       <use x=\"159.033203\" xlink:href=\"#DejaVuSans-53\"/>\n       <use x=\"222.65625\" xlink:href=\"#DejaVuSans-48\"/>\n      </g>\n     </g>\n    </g>\n    <g id=\"ytick_12\">\n     <g id=\"line2d_34\">\n      <g>\n       <use style=\"stroke:#000000;stroke-width:0.8;\" x=\"486.64858\" xlink:href=\"#me2cbe308f7\" y=\"106.579625\"/>\n      </g>\n     </g>\n     <g id=\"text_30\">\n      <!-- 0.875 -->\n      <g transform=\"translate(451.020455 110.378844)scale(0.1 -0.1)\">\n       <use xlink:href=\"#DejaVuSans-48\"/>\n       <use x=\"63.623047\" xlink:href=\"#DejaVuSans-46\"/>\n       <use x=\"95.410156\" xlink:href=\"#DejaVuSans-56\"/>\n       <use x=\"159.033203\" xlink:href=\"#DejaVuSans-55\"/>\n       <use x=\"222.65625\" xlink:href=\"#DejaVuSans-53\"/>\n      </g>\n     </g>\n    </g>\n    <g id=\"ytick_13\">\n     <g id=\"line2d_35\">\n      <g>\n       <use style=\"stroke:#000000;stroke-width:0.8;\" x=\"486.64858\" xlink:href=\"#me2cbe308f7\" y=\"75.578619\"/>\n      </g>\n     </g>\n     <g id=\"text_31\">\n      <!-- 0.900 -->\n      <defs>\n       <path d=\"M 10.984375 1.515625 \nL 10.984375 10.5 \nQ 14.703125 8.734375 18.5 7.8125 \nQ 22.3125 6.890625 25.984375 6.890625 \nQ 35.75 6.890625 40.890625 13.453125 \nQ 46.046875 20.015625 46.78125 33.40625 \nQ 43.953125 29.203125 39.59375 26.953125 \nQ 35.25 24.703125 29.984375 24.703125 \nQ 19.046875 24.703125 12.671875 31.3125 \nQ 6.296875 37.9375 6.296875 49.421875 \nQ 6.296875 60.640625 12.9375 67.421875 \nQ 19.578125 74.21875 30.609375 74.21875 \nQ 43.265625 74.21875 49.921875 64.515625 \nQ 56.59375 54.828125 56.59375 36.375 \nQ 56.59375 19.140625 48.40625 8.859375 \nQ 40.234375 -1.421875 26.421875 -1.421875 \nQ 22.703125 -1.421875 18.890625 -0.6875 \nQ 15.09375 0.046875 10.984375 1.515625 \nz\nM 30.609375 32.421875 \nQ 37.25 32.421875 41.125 36.953125 \nQ 45.015625 41.5 45.015625 49.421875 \nQ 45.015625 57.28125 41.125 61.84375 \nQ 37.25 66.40625 30.609375 66.40625 \nQ 23.96875 66.40625 20.09375 61.84375 \nQ 16.21875 57.28125 16.21875 49.421875 \nQ 16.21875 41.5 20.09375 36.953125 \nQ 23.96875 32.421875 30.609375 32.421875 \nz\n\" id=\"DejaVuSans-57\"/>\n      </defs>\n      <g transform=\"translate(451.020455 79.377837)scale(0.1 -0.1)\">\n       <use xlink:href=\"#DejaVuSans-48\"/>\n       <use x=\"63.623047\" xlink:href=\"#DejaVuSans-46\"/>\n       <use x=\"95.410156\" xlink:href=\"#DejaVuSans-57\"/>\n       <use x=\"159.033203\" xlink:href=\"#DejaVuSans-48\"/>\n       <use x=\"222.65625\" xlink:href=\"#DejaVuSans-48\"/>\n      </g>\n     </g>\n    </g>\n    <g id=\"ytick_14\">\n     <g id=\"line2d_36\">\n      <g>\n       <use style=\"stroke:#000000;stroke-width:0.8;\" x=\"486.64858\" xlink:href=\"#me2cbe308f7\" y=\"44.577612\"/>\n      </g>\n     </g>\n     <g id=\"text_32\">\n      <!-- 0.925 -->\n      <g transform=\"translate(451.020455 48.376831)scale(0.1 -0.1)\">\n       <use xlink:href=\"#DejaVuSans-48\"/>\n       <use x=\"63.623047\" xlink:href=\"#DejaVuSans-46\"/>\n       <use x=\"95.410156\" xlink:href=\"#DejaVuSans-57\"/>\n       <use x=\"159.033203\" xlink:href=\"#DejaVuSans-50\"/>\n       <use x=\"222.65625\" xlink:href=\"#DejaVuSans-53\"/>\n      </g>\n     </g>\n    </g>\n    <g id=\"ytick_15\">\n     <g id=\"line2d_37\">\n      <g>\n       <use style=\"stroke:#000000;stroke-width:0.8;\" x=\"486.64858\" xlink:href=\"#me2cbe308f7\" y=\"13.576606\"/>\n      </g>\n     </g>\n     <g id=\"text_33\">\n      <!-- 0.950 -->\n      <g transform=\"translate(451.020455 17.375825)scale(0.1 -0.1)\">\n       <use xlink:href=\"#DejaVuSans-48\"/>\n       <use x=\"63.623047\" xlink:href=\"#DejaVuSans-46\"/>\n       <use x=\"95.410156\" xlink:href=\"#DejaVuSans-57\"/>\n       <use x=\"159.033203\" xlink:href=\"#DejaVuSans-53\"/>\n       <use x=\"222.65625\" xlink:href=\"#DejaVuSans-48\"/>\n      </g>\n     </g>\n    </g>\n   </g>\n   <g id=\"line2d_38\">\n    <path clip-path=\"url(#p651af142f9)\" d=\"M 503.941968 266.645455 \nL 522.145535 103.914959 \nL 540.349102 85.055739 \nL 558.552668 74.810204 \nL 576.756235 68.014274 \nL 594.959802 63.325289 \nL 613.163369 59.586495 \nL 631.366935 54.153883 \nL 649.570502 50.704277 \nL 667.774069 47.481891 \nL 685.977636 43.743097 \nL 704.181202 40.933837 \nL 722.384769 37.298325 \nL 740.588336 34.468409 \nL 758.791903 31.452586 \nL 776.995469 28.62267 \nL 795.199036 25.916692 \nL 813.402603 23.68581 \nL 831.60617 21.000488 \nL 849.809737 19.554545 \n\" style=\"fill:none;stroke:#0000ff;stroke-linecap:square;\"/>\n    <g clip-path=\"url(#p651af142f9)\">\n     <use style=\"fill:#0000ff;stroke:#0000ff;\" x=\"503.941968\" xlink:href=\"#m7ef591f093\" y=\"266.645455\"/>\n     <use style=\"fill:#0000ff;stroke:#0000ff;\" x=\"522.145535\" xlink:href=\"#m7ef591f093\" y=\"103.914959\"/>\n     <use style=\"fill:#0000ff;stroke:#0000ff;\" x=\"540.349102\" xlink:href=\"#m7ef591f093\" y=\"85.055739\"/>\n     <use style=\"fill:#0000ff;stroke:#0000ff;\" x=\"558.552668\" xlink:href=\"#m7ef591f093\" y=\"74.810204\"/>\n     <use style=\"fill:#0000ff;stroke:#0000ff;\" x=\"576.756235\" xlink:href=\"#m7ef591f093\" y=\"68.014274\"/>\n     <use style=\"fill:#0000ff;stroke:#0000ff;\" x=\"594.959802\" xlink:href=\"#m7ef591f093\" y=\"63.325289\"/>\n     <use style=\"fill:#0000ff;stroke:#0000ff;\" x=\"613.163369\" xlink:href=\"#m7ef591f093\" y=\"59.586495\"/>\n     <use style=\"fill:#0000ff;stroke:#0000ff;\" x=\"631.366935\" xlink:href=\"#m7ef591f093\" y=\"54.153883\"/>\n     <use style=\"fill:#0000ff;stroke:#0000ff;\" x=\"649.570502\" xlink:href=\"#m7ef591f093\" y=\"50.704277\"/>\n     <use style=\"fill:#0000ff;stroke:#0000ff;\" x=\"667.774069\" xlink:href=\"#m7ef591f093\" y=\"47.481891\"/>\n     <use style=\"fill:#0000ff;stroke:#0000ff;\" x=\"685.977636\" xlink:href=\"#m7ef591f093\" y=\"43.743097\"/>\n     <use style=\"fill:#0000ff;stroke:#0000ff;\" x=\"704.181202\" xlink:href=\"#m7ef591f093\" y=\"40.933837\"/>\n     <use style=\"fill:#0000ff;stroke:#0000ff;\" x=\"722.384769\" xlink:href=\"#m7ef591f093\" y=\"37.298325\"/>\n     <use style=\"fill:#0000ff;stroke:#0000ff;\" x=\"740.588336\" xlink:href=\"#m7ef591f093\" y=\"34.468409\"/>\n     <use style=\"fill:#0000ff;stroke:#0000ff;\" x=\"758.791903\" xlink:href=\"#m7ef591f093\" y=\"31.452586\"/>\n     <use style=\"fill:#0000ff;stroke:#0000ff;\" x=\"776.995469\" xlink:href=\"#m7ef591f093\" y=\"28.62267\"/>\n     <use style=\"fill:#0000ff;stroke:#0000ff;\" x=\"795.199036\" xlink:href=\"#m7ef591f093\" y=\"25.916692\"/>\n     <use style=\"fill:#0000ff;stroke:#0000ff;\" x=\"813.402603\" xlink:href=\"#m7ef591f093\" y=\"23.68581\"/>\n     <use style=\"fill:#0000ff;stroke:#0000ff;\" x=\"831.60617\" xlink:href=\"#m7ef591f093\" y=\"21.000488\"/>\n     <use style=\"fill:#0000ff;stroke:#0000ff;\" x=\"849.809737\" xlink:href=\"#m7ef591f093\" y=\"19.554545\"/>\n    </g>\n   </g>\n   <g id=\"line2d_39\">\n    <path clip-path=\"url(#p651af142f9)\" d=\"M 503.941968 124.238426 \nL 522.145535 97.504963 \nL 540.349102 86.713474 \nL 558.552668 78.619857 \nL 576.756235 72.85622 \nL 594.959802 68.809412 \nL 613.163369 65.253125 \nL 631.366935 62.800514 \nL 649.570502 56.791616 \nL 667.774069 55.687941 \nL 685.977636 53.1127 \nL 704.181202 48.94326 \nL 722.384769 47.226433 \nL 740.588336 45.754866 \nL 758.791903 42.689102 \nL 776.995469 41.462796 \nL 795.199036 38.274402 \nL 813.402603 37.661249 \nL 831.60617 34.840746 \nL 849.809737 34.227593 \n\" style=\"fill:none;stroke:#ff0000;stroke-linecap:square;\"/>\n    <g clip-path=\"url(#p651af142f9)\">\n     <use style=\"fill:#ff0000;stroke:#ff0000;stroke-linejoin:bevel;\" x=\"503.941968\" xlink:href=\"#m4a31531b5c\" y=\"124.238426\"/>\n     <use style=\"fill:#ff0000;stroke:#ff0000;stroke-linejoin:bevel;\" x=\"522.145535\" xlink:href=\"#m4a31531b5c\" y=\"97.504963\"/>\n     <use style=\"fill:#ff0000;stroke:#ff0000;stroke-linejoin:bevel;\" x=\"540.349102\" xlink:href=\"#m4a31531b5c\" y=\"86.713474\"/>\n     <use style=\"fill:#ff0000;stroke:#ff0000;stroke-linejoin:bevel;\" x=\"558.552668\" xlink:href=\"#m4a31531b5c\" y=\"78.619857\"/>\n     <use style=\"fill:#ff0000;stroke:#ff0000;stroke-linejoin:bevel;\" x=\"576.756235\" xlink:href=\"#m4a31531b5c\" y=\"72.85622\"/>\n     <use style=\"fill:#ff0000;stroke:#ff0000;stroke-linejoin:bevel;\" x=\"594.959802\" xlink:href=\"#m4a31531b5c\" y=\"68.809412\"/>\n     <use style=\"fill:#ff0000;stroke:#ff0000;stroke-linejoin:bevel;\" x=\"613.163369\" xlink:href=\"#m4a31531b5c\" y=\"65.253125\"/>\n     <use style=\"fill:#ff0000;stroke:#ff0000;stroke-linejoin:bevel;\" x=\"631.366935\" xlink:href=\"#m4a31531b5c\" y=\"62.800514\"/>\n     <use style=\"fill:#ff0000;stroke:#ff0000;stroke-linejoin:bevel;\" x=\"649.570502\" xlink:href=\"#m4a31531b5c\" y=\"56.791616\"/>\n     <use style=\"fill:#ff0000;stroke:#ff0000;stroke-linejoin:bevel;\" x=\"667.774069\" xlink:href=\"#m4a31531b5c\" y=\"55.687941\"/>\n     <use style=\"fill:#ff0000;stroke:#ff0000;stroke-linejoin:bevel;\" x=\"685.977636\" xlink:href=\"#m4a31531b5c\" y=\"53.1127\"/>\n     <use style=\"fill:#ff0000;stroke:#ff0000;stroke-linejoin:bevel;\" x=\"704.181202\" xlink:href=\"#m4a31531b5c\" y=\"48.94326\"/>\n     <use style=\"fill:#ff0000;stroke:#ff0000;stroke-linejoin:bevel;\" x=\"722.384769\" xlink:href=\"#m4a31531b5c\" y=\"47.226433\"/>\n     <use style=\"fill:#ff0000;stroke:#ff0000;stroke-linejoin:bevel;\" x=\"740.588336\" xlink:href=\"#m4a31531b5c\" y=\"45.754866\"/>\n     <use style=\"fill:#ff0000;stroke:#ff0000;stroke-linejoin:bevel;\" x=\"758.791903\" xlink:href=\"#m4a31531b5c\" y=\"42.689102\"/>\n     <use style=\"fill:#ff0000;stroke:#ff0000;stroke-linejoin:bevel;\" x=\"776.995469\" xlink:href=\"#m4a31531b5c\" y=\"41.462796\"/>\n     <use style=\"fill:#ff0000;stroke:#ff0000;stroke-linejoin:bevel;\" x=\"795.199036\" xlink:href=\"#m4a31531b5c\" y=\"38.274402\"/>\n     <use style=\"fill:#ff0000;stroke:#ff0000;stroke-linejoin:bevel;\" x=\"813.402603\" xlink:href=\"#m4a31531b5c\" y=\"37.661249\"/>\n     <use style=\"fill:#ff0000;stroke:#ff0000;stroke-linejoin:bevel;\" x=\"831.60617\" xlink:href=\"#m4a31531b5c\" y=\"34.840746\"/>\n     <use style=\"fill:#ff0000;stroke:#ff0000;stroke-linejoin:bevel;\" x=\"849.809737\" xlink:href=\"#m4a31531b5c\" y=\"34.227593\"/>\n    </g>\n   </g>\n   <g id=\"patch_9\">\n    <path d=\"M 486.64858 279 \nL 486.64858 7.2 \n\" style=\"fill:none;stroke:#000000;stroke-linecap:square;stroke-linejoin:miter;stroke-width:0.8;\"/>\n   </g>\n   <g id=\"patch_10\">\n    <path d=\"M 867.103125 279 \nL 867.103125 7.2 \n\" style=\"fill:none;stroke:#000000;stroke-linecap:square;stroke-linejoin:miter;stroke-width:0.8;\"/>\n   </g>\n   <g id=\"patch_11\">\n    <path d=\"M 486.64858 279 \nL 867.103125 279 \n\" style=\"fill:none;stroke:#000000;stroke-linecap:square;stroke-linejoin:miter;stroke-width:0.8;\"/>\n   </g>\n   <g id=\"patch_12\">\n    <path d=\"M 486.64858 7.2 \nL 867.103125 7.2 \n\" style=\"fill:none;stroke:#000000;stroke-linecap:square;stroke-linejoin:miter;stroke-width:0.8;\"/>\n   </g>\n   <g id=\"legend_2\">\n    <g id=\"patch_13\">\n     <path d=\"M 493.64858 44.55625 \nL 597.220455 44.55625 \nQ 599.220455 44.55625 599.220455 42.55625 \nL 599.220455 14.2 \nQ 599.220455 12.2 597.220455 12.2 \nL 493.64858 12.2 \nQ 491.64858 12.2 491.64858 14.2 \nL 491.64858 42.55625 \nQ 491.64858 44.55625 493.64858 44.55625 \nz\n\" style=\"fill:#ffffff;opacity:0.8;stroke:#cccccc;stroke-linejoin:miter;\"/>\n    </g>\n    <g id=\"line2d_40\">\n     <path d=\"M 495.64858 20.298438 \nL 515.64858 20.298438 \n\" style=\"fill:none;stroke:#0000ff;stroke-linecap:square;\"/>\n    </g>\n    <g id=\"line2d_41\">\n     <g>\n      <use style=\"fill:#0000ff;stroke:#0000ff;\" x=\"505.64858\" xlink:href=\"#m7ef591f093\" y=\"20.298438\"/>\n     </g>\n    </g>\n    <g id=\"text_34\">\n     <!-- train accuracy -->\n     <defs>\n      <path d=\"M 48.78125 52.59375 \nL 48.78125 44.1875 \nQ 44.96875 46.296875 41.140625 47.34375 \nQ 37.3125 48.390625 33.40625 48.390625 \nQ 24.65625 48.390625 19.8125 42.84375 \nQ 14.984375 37.3125 14.984375 27.296875 \nQ 14.984375 17.28125 19.8125 11.734375 \nQ 24.65625 6.203125 33.40625 6.203125 \nQ 37.3125 6.203125 41.140625 7.25 \nQ 44.96875 8.296875 48.78125 10.40625 \nL 48.78125 2.09375 \nQ 45.015625 0.34375 40.984375 -0.53125 \nQ 36.96875 -1.421875 32.421875 -1.421875 \nQ 20.0625 -1.421875 12.78125 6.34375 \nQ 5.515625 14.109375 5.515625 27.296875 \nQ 5.515625 40.671875 12.859375 48.328125 \nQ 20.21875 56 33.015625 56 \nQ 37.15625 56 41.109375 55.140625 \nQ 45.0625 54.296875 48.78125 52.59375 \nz\n\" id=\"DejaVuSans-99\"/>\n      <path d=\"M 8.5 21.578125 \nL 8.5 54.6875 \nL 17.484375 54.6875 \nL 17.484375 21.921875 \nQ 17.484375 14.15625 20.5 10.265625 \nQ 23.53125 6.390625 29.59375 6.390625 \nQ 36.859375 6.390625 41.078125 11.03125 \nQ 45.3125 15.671875 45.3125 23.6875 \nL 45.3125 54.6875 \nL 54.296875 54.6875 \nL 54.296875 0 \nL 45.3125 0 \nL 45.3125 8.40625 \nQ 42.046875 3.421875 37.71875 1 \nQ 33.40625 -1.421875 27.6875 -1.421875 \nQ 18.265625 -1.421875 13.375 4.4375 \nQ 8.5 10.296875 8.5 21.578125 \nz\nM 31.109375 56 \nz\n\" id=\"DejaVuSans-117\"/>\n      <path d=\"M 32.171875 -5.078125 \nQ 28.375 -14.84375 24.75 -17.8125 \nQ 21.140625 -20.796875 15.09375 -20.796875 \nL 7.90625 -20.796875 \nL 7.90625 -13.28125 \nL 13.1875 -13.28125 \nQ 16.890625 -13.28125 18.9375 -11.515625 \nQ 21 -9.765625 23.484375 -3.21875 \nL 25.09375 0.875 \nL 2.984375 54.6875 \nL 12.5 54.6875 \nL 29.59375 11.921875 \nL 46.6875 54.6875 \nL 56.203125 54.6875 \nz\n\" id=\"DejaVuSans-121\"/>\n     </defs>\n     <g transform=\"translate(523.64858 23.798438)scale(0.1 -0.1)\">\n      <use xlink:href=\"#DejaVuSans-116\"/>\n      <use x=\"39.208984\" xlink:href=\"#DejaVuSans-114\"/>\n      <use x=\"80.322266\" xlink:href=\"#DejaVuSans-97\"/>\n      <use x=\"141.601562\" xlink:href=\"#DejaVuSans-105\"/>\n      <use x=\"169.384766\" xlink:href=\"#DejaVuSans-110\"/>\n      <use x=\"232.763672\" xlink:href=\"#DejaVuSans-32\"/>\n      <use x=\"264.550781\" xlink:href=\"#DejaVuSans-97\"/>\n      <use x=\"325.830078\" xlink:href=\"#DejaVuSans-99\"/>\n      <use x=\"380.810547\" xlink:href=\"#DejaVuSans-99\"/>\n      <use x=\"435.791016\" xlink:href=\"#DejaVuSans-117\"/>\n      <use x=\"499.169922\" xlink:href=\"#DejaVuSans-114\"/>\n      <use x=\"540.283203\" xlink:href=\"#DejaVuSans-97\"/>\n      <use x=\"601.5625\" xlink:href=\"#DejaVuSans-99\"/>\n      <use x=\"656.542969\" xlink:href=\"#DejaVuSans-121\"/>\n     </g>\n    </g>\n    <g id=\"line2d_42\">\n     <path d=\"M 495.64858 34.976563 \nL 515.64858 34.976563 \n\" style=\"fill:none;stroke:#ff0000;stroke-linecap:square;\"/>\n    </g>\n    <g id=\"line2d_43\">\n     <g>\n      <use style=\"fill:#ff0000;stroke:#ff0000;stroke-linejoin:bevel;\" x=\"505.64858\" xlink:href=\"#m4a31531b5c\" y=\"34.976563\"/>\n     </g>\n    </g>\n    <g id=\"text_35\">\n     <!-- test accuracy -->\n     <g transform=\"translate(523.64858 38.476563)scale(0.1 -0.1)\">\n      <use xlink:href=\"#DejaVuSans-116\"/>\n      <use x=\"39.208984\" xlink:href=\"#DejaVuSans-101\"/>\n      <use x=\"100.732422\" xlink:href=\"#DejaVuSans-115\"/>\n      <use x=\"152.832031\" xlink:href=\"#DejaVuSans-116\"/>\n      <use x=\"192.041016\" xlink:href=\"#DejaVuSans-32\"/>\n      <use x=\"223.828125\" xlink:href=\"#DejaVuSans-97\"/>\n      <use x=\"285.107422\" xlink:href=\"#DejaVuSans-99\"/>\n      <use x=\"340.087891\" xlink:href=\"#DejaVuSans-99\"/>\n      <use x=\"395.068359\" xlink:href=\"#DejaVuSans-117\"/>\n      <use x=\"458.447266\" xlink:href=\"#DejaVuSans-114\"/>\n      <use x=\"499.560547\" xlink:href=\"#DejaVuSans-97\"/>\n      <use x=\"560.839844\" xlink:href=\"#DejaVuSans-99\"/>\n      <use x=\"615.820312\" xlink:href=\"#DejaVuSans-121\"/>\n     </g>\n    </g>\n   </g>\n  </g>\n </g>\n <defs>\n  <clipPath id=\"p68e93bf8ab\">\n   <rect height=\"271.8\" width=\"380.454545\" x=\"30.103125\" y=\"7.2\"/>\n  </clipPath>\n  <clipPath id=\"p651af142f9\">\n   <rect height=\"271.8\" width=\"380.454545\" x=\"486.64858\" y=\"7.2\"/>\n  </clipPath>\n </defs>\n</svg>\n",
      "image/png": "[encoded data removed]"
     },
     "metadata": {
      "needs_background": "light"
     }
    }
   ],
   "source": [
    "training_accuracy_seq = checkpoint['training_accuracy_seq']\n",
    "training_loss_seq = checkpoint['training_loss_seq']\n",
    "testing_accuracy_seq = checkpoint['testing_accuracy_seq']\n",
    "testing_loss_seq = checkpoint['testing_loss_seq']\n",
    "fig, (ax1, ax2) = plt.subplots(nrows=1, ncols=2, figsize=(15,5))\n",
    "ax1.plot( training_loss_seq, '.-',  color='blue', linewidth=1, label=\"train loss\")\n",
    "ax1.plot( testing_loss_seq, '-*', color='red', linewidth=1, label=\"test loss\")\n",
    "ax1.legend()\n",
    "ax2.plot( training_accuracy_seq, '.-',  color='blue', linewidth=1, label=\"train accuracy\")\n",
    "ax2.plot( testing_accuracy_seq, '-*', color='red', linewidth=1, label=\"test accuracy\")\n",
    "ax2.legend()\n",
    "plt.show()"
   ]
  },
  {
   "cell_type": "markdown",
   "metadata": {
    "id": "GAxe4Q7wNjZK"
   },
   "source": [
    "# CIFAR-10"
   ]
  },
  {
   "cell_type": "code",
   "execution_count": 9,
   "metadata": {
    "colab": {
     "base_uri": "https://localhost:8080/"
    },
    "execution": {
     "iopub.execute_input": "2021-02-18T02:24:48.450616Z",
     "iopub.status.busy": "2021-02-18T02:24:48.450176Z",
     "iopub.status.idle": "2021-02-18T02:24:49.110361Z",
     "shell.execute_reply": "2021-02-18T02:24:49.109412Z",
     "shell.execute_reply.started": "2021-02-18T02:24:48.450410Z"
    },
    "executionInfo": {
     "elapsed": 1056,
     "status": "ok",
     "timestamp": 1613520463871,
     "user": {
      "displayName": "Yutong Dai",
      "photoUrl": "",
      "userId": "05937299442661106411"
     },
     "user_tz": 300
    },
    "id": "G6xklPxdNlXv",
    "outputId": "d10b258c-6af2-406d-82c5-3397fccadaaa"
   },
   "outputs": [
    {
     "name": "stdout",
     "output_type": "stream",
     "text": [
      "per image size: 32*32 | per image channel:3\n",
      "Xtest  shape: (10000, 3072) | Ytest shape: torch.Size([10000])\n"
     ]
    }
   ],
   "source": [
    "transform = transforms.Compose(\n",
    "    [transforms.ToTensor(),\n",
    "     transforms.Normalize((0.5, 0.5, 0.5), (0.5, 0.5, 0.5))])\n",
    "testset = torchvision.datasets.CIFAR10(dataDir, train=False,  download=False, transform=transform)\n",
    "nTestSamples, width, height, channel = testset.data.shape\n",
    "print(f'per image size: {width}*{height} | per image channel:{channel}')\n",
    "Xtest = testset.data.reshape([nTestSamples, width*height*channel])\n",
    "Ytest = torch.tensor(testset.targets)\n",
    "print(f'Xtest  shape: {Xtest.shape} | Ytest shape: {Ytest.shape}')"
   ]
  },
  {
   "cell_type": "markdown",
   "metadata": {
    "id": "WqQiyyFRcuO9"
   },
   "source": [
    "# Naive Bayes - Gaussian"
   ]
  },
  {
   "cell_type": "code",
   "execution_count": 10,
   "metadata": {
    "colab": {
     "base_uri": "https://localhost:8080/"
    },
    "execution": {
     "iopub.execute_input": "2021-02-18T02:24:50.529825Z",
     "iopub.status.busy": "2021-02-18T02:24:50.529361Z",
     "iopub.status.idle": "2021-02-18T02:24:55.852814Z",
     "shell.execute_reply": "2021-02-18T02:24:55.851845Z",
     "shell.execute_reply.started": "2021-02-18T02:24:50.529749Z"
    },
    "executionInfo": {
     "elapsed": 2842,
     "status": "ok",
     "timestamp": 1613520469133,
     "user": {
      "displayName": "Yutong Dai",
      "photoUrl": "",
      "userId": "05937299442661106411"
     },
     "user_tz": 300
    },
    "id": "nIZcFXzSTuDK",
    "outputId": "c283ee73-1114-41e0-f793-b2188a297142"
   },
   "outputs": [
    {
     "name": "stdout",
     "output_type": "stream",
     "text": [
      "Classification accuracy:0.29760 | Macro-F1 score:0.27546\n"
     ]
    }
   ],
   "source": [
    "modelPath = modelDir+ '{}.pkl'.format('cifa10-GaussianNB')\n",
    "with open(modelPath,\"rb\") as f:\n",
    "  nbBest = pickle.load(f)\n",
    "Ypred = nbBest.predict(Xtest)\n",
    "print(f'Classification accuracy:{accuracy_score(Ypred, Ytest):6.5f} | Macro-F1 score:{f1_score(Ypred, Ytest, average=\"macro\"):6.5f}')"
   ]
  },
  {
   "cell_type": "markdown",
   "metadata": {
    "id": "tv-9EnWqc12s"
   },
   "source": [
    "## Decision Tree"
   ]
  },
  {
   "cell_type": "code",
   "execution_count": 11,
   "metadata": {
    "colab": {
     "base_uri": "https://localhost:8080/"
    },
    "execution": {
     "iopub.execute_input": "2021-02-18T02:24:58.592802Z",
     "iopub.status.busy": "2021-02-18T02:24:58.592417Z",
     "iopub.status.idle": "2021-02-18T02:24:58.743917Z",
     "shell.execute_reply": "2021-02-18T02:24:58.743005Z",
     "shell.execute_reply.started": "2021-02-18T02:24:58.592648Z"
    },
    "executionInfo": {
     "elapsed": 1516,
     "status": "ok",
     "timestamp": 1613520472628,
     "user": {
      "displayName": "Yutong Dai",
      "photoUrl": "",
      "userId": "05937299442661106411"
     },
     "user_tz": 300
    },
    "id": "QpSBBc5Gcyp1",
    "outputId": "b2e11e4f-2ae3-43cd-98f2-0b70b0a3da15"
   },
   "outputs": [
    {
     "name": "stdout",
     "output_type": "stream",
     "text": [
      "Classification accuracy:0.26970 | Macro-F1 score:0.26961\n"
     ]
    }
   ],
   "source": [
    "modelPath = modelDir+ '{}.pkl'.format('cifa10-decisionTree')\n",
    "with open(modelPath,\"rb\") as f:\n",
    "  dtreeBest = pickle.load(f)\n",
    "Ypred = dtreeBest.predict(Xtest)\n",
    "print(f'Classification accuracy:{accuracy_score(Ypred, Ytest):6.5f} | Macro-F1 score:{f1_score(Ypred, Ytest, average=\"macro\"):6.5f}')"
   ]
  },
  {
   "cell_type": "markdown",
   "metadata": {
    "id": "txR15KaJULXH"
   },
   "source": [
    "## Gradient Boosting"
   ]
  },
  {
   "cell_type": "code",
   "execution_count": 12,
   "metadata": {
    "colab": {
     "base_uri": "https://localhost:8080/"
    },
    "execution": {
     "iopub.execute_input": "2021-02-18T02:25:00.991951Z",
     "iopub.status.busy": "2021-02-18T02:25:00.991304Z",
     "iopub.status.idle": "2021-02-18T02:25:01.754941Z",
     "shell.execute_reply": "2021-02-18T02:25:01.753928Z",
     "shell.execute_reply.started": "2021-02-18T02:25:00.991650Z"
    },
    "executionInfo": {
     "elapsed": 1063,
     "status": "ok",
     "timestamp": 1613520497602,
     "user": {
      "displayName": "Yutong Dai",
      "photoUrl": "",
      "userId": "05937299442661106411"
     },
     "user_tz": 300
    },
    "id": "S7VS9DcYT4qx",
    "outputId": "a533db0d-f9bf-4d21-8e4a-a6315e2a34fb"
   },
   "outputs": [
    {
     "name": "stdout",
     "output_type": "stream",
     "text": [
      "Classification accuracy:0.48250 | Macro-F1 score:0.47972\n"
     ]
    }
   ],
   "source": [
    "modelPath = modelDir+ '{}.pkl'.format('cifa10-gradientBoosting')\n",
    "with open(modelPath,\"rb\") as f:\n",
    "  nbBest = pickle.load(f)\n",
    "Ypred = nbBest.predict(Xtest)\n",
    "print(f'Classification accuracy:{accuracy_score(Ypred, Ytest):6.5f} | Macro-F1 score:{f1_score(Ypred, Ytest, average=\"macro\"):6.5f}')"
   ]
  },
  {
   "cell_type": "code",
   "execution_count": null,
   "metadata": {},
   "outputs": [],
   "source": []
  }
 ],
 "metadata": {
  "colab": {
   "authorship_tag": "ABX9TyORoEE4X69dFK7l4xVjG81Q",
   "collapsed_sections": [],
   "name": "04_reloadForEval.ipynb",
   "provenance": [],
   "toc_visible": true
  },
  "kernelspec": {
   "display_name": "Python 3",
   "language": "python",
   "name": "python3"
  },
  "language_info": {
   "codemirror_mode": {
    "name": "ipython",
    "version": 3
   },
   "file_extension": ".py",
   "mimetype": "text/x-python",
   "name": "python",
   "nbconvert_exporter": "python",
   "pygments_lexer": "ipython3",
   "version": "3.8.3"
  }
 },
 "nbformat": 4,
 "nbformat_minor": 4
}