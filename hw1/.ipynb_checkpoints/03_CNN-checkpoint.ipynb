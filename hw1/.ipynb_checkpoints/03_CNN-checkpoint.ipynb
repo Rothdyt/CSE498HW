{
 "cells": [
  {
   "cell_type": "code",
   "execution_count": null,
   "metadata": {},
   "outputs": [],
   "source": [
    "import pickle\n",
    "import os.path\n",
    "import argparse\n",
    "from matplotlib import  pyplot as plt\n",
    "from utils import *\n",
    "\n",
    "import torch\n",
    "import torchvision\n",
    "import torch.nn.functional as F\n",
    "import torchvision.transforms as transforms\n",
    "import torch.optim as optim\n",
    "import torch.backends.cudnn as cudnn\n",
    "\n",
    "\n",
    "projPath = '.'\n",
    "dataDir = f'{projPath}/db'\n",
    "modelDir = f'{projPath}/model'\n",
    "logDir = f'{projPath}/log'\n",
    "# # General setups\n",
    "# parser = argparse.ArgumentParser(description='PyTorch Training')\n",
    "# parser.add_argument('--total_epochs', '-e', default=10, type=int, help='total training epoch')\n",
    "# parser.add_argument('--batch_size', '-b', default=32, type=int, help='batch size')\n",
    "# parser.add_argument('--checkpoint', '-c', default=None, type=str, help='resume from checkpoint')\n",
    "# args = parser.parse_args()\n",
    "# batch_size = args.batch_size\n",
    "# total_epochs = args.total_epochs"
   ]
  },
  {
   "cell_type": "markdown",
   "metadata": {},
   "source": [
    "# MNIST\n",
    "## Data preparation"
   ]
  },
  {
   "cell_type": "code",
   "execution_count": 2,
   "metadata": {},
   "outputs": [
    {
     "name": "stdout",
     "output_type": "stream",
     "text": [
      "# train samples: 60000 | # test samples:10000\n",
      "per image size: 28*28\n"
     ]
    }
   ],
   "source": [
    "transform = transforms.Compose(\n",
    "    [transforms.ToTensor(),\n",
    "     transforms.Normalize((0.5), (0.5))])\n",
    "trainset = torchvision.datasets.MNIST(dataDir, train=True,  download=False, transform=transform)\n",
    "trainloader = torch.utils.data.DataLoader(trainset, batch_size=128,\n",
    "                                          shuffle=True, num_workers=2)\n",
    "testset = torchvision.datasets.MNIST(dataDir, train=False,  download=False, transform=transform)\n",
    "testloader = torch.utils.data.DataLoader(testset, batch_size=128,\n",
    "                                         shuffle=False, num_workers=2)\n",
    "nTrainSamples, width, height = trainset.data.shape\n",
    "nTestSamples, width, height = testset.data.shape\n",
    "print(f'# train samples: {nTrainSamples} | # test samples:{nTestSamples}')\n",
    "print(f'per image size: {width}*{height}')"
   ]
  },
  {
   "cell_type": "markdown",
   "metadata": {},
   "source": [
    "## Train neural nets"
   ]
  },
  {
   "cell_type": "code",
   "execution_count": 5,
   "metadata": {},
   "outputs": [],
   "source": [
    "net = CNNMNIST()\n",
    "netname=f'mnist-cnn'\n",
    "# choose optimizer\n",
    "optimizer = optim.SGD(net.parameters(), lr=1e-3, momentum=0.9, weight_decay=5e-4)\n",
    "logFilePath= f'{logDir}/{netname}'\n",
    "logger = Logger(logFilePath)\n",
    "criterion = torch.nn.CrossEntropyLoss()\n",
    "checkpointPath = f'{modelDir}/{netname}-checkpoint.pth.tar'\n",
    "netclf = TrainAndTest(net, trainloader, testloader, \n",
    "                           criterion, optimizer, netname=netname)\n",
    "netclf.build(start_epoch=0, total_epochs=20, checkpointPath=None, \n",
    "                           logger=logger, modelDir=modelDir, vectorize=False)"
   ]
  },
  {
   "cell_type": "markdown",
   "metadata": {},
   "source": [
    "# CIFAR - 10"
   ]
  },
  {
   "cell_type": "code",
   "execution_count": 2,
   "metadata": {},
   "outputs": [
    {
     "name": "stdout",
     "output_type": "stream",
     "text": [
      "# train samples: 50000 | # test samples:10000\n",
      "per image size: 32*32 | per image channel:3\n"
     ]
    }
   ],
   "source": [
    "transform = transforms.Compose(\n",
    "    [transforms.ToTensor(),\n",
    "     transforms.Normalize((0.5, 0.5, 0.5), (0.5, 0.5, 0.5))])\n",
    "trainset = torchvision.datasets.CIFAR10(dataDir, train=True,  download=False, transform=transform)\n",
    "trainloader = torch.utils.data.DataLoader(trainset, batch_size=64,\n",
    "                                          shuffle=True, num_workers=2)\n",
    "testset = torchvision.datasets.CIFAR10(dataDir, train=False,  download=False, transform=transform)\n",
    "testloader = torch.utils.data.DataLoader(testset, batch_size=64,\n",
    "                                         shuffle=False, num_workers=2)\n",
    "nTrainSamples, width, height, channel = trainset.data.shape\n",
    "nTestSamples, width, height, channel = testset.data.shape\n",
    "print(f'# train samples: {nTrainSamples} | # test samples:{nTestSamples}')\n",
    "print(f'per image size: {width}*{height} | per image channel:{channel}')"
   ]
  },
  {
   "cell_type": "code",
   "execution_count": 4,
   "metadata": {},
   "outputs": [],
   "source": [
    "net = CNNCIFAR10()\n",
    "netname=f'cifar10-cnn'\n",
    "# choose optimizer\n",
    "optimizer = optim.SGD(net.parameters(), lr=1e-3, momentum=0.9, weight_decay=5e-4)\n",
    "logFilePath= f'{logDir}/{netname}'\n",
    "logger = Logger(logFilePath)\n",
    "criterion = torch.nn.CrossEntropyLoss()\n",
    "checkpointPath = f'{modelDir}/{netname}-checkpoint.pth.tar'\n",
    "netclf = TrainAndTest(net, trainloader, testloader, \n",
    "                           criterion, optimizer, netname=netname)\n",
    "netclf.build(start_epoch=0, total_epochs=50, checkpointPath=None, \n",
    "                           logger=logger, modelDir=modelDir, vectorize=False)\n",
    "# netclf.build(start_epoch=0, total_epochs=70, checkpointPath=checkpointPath, \n",
    "#                            logger=logger, modelDir=modelDir, vectorize=False)"
   ]
  },
  {
   "cell_type": "code",
   "execution_count": 5,
   "metadata": {},
   "outputs": [],
   "source": [
    "# trainloader = torch.utils.data.DataLoader(trainset, batch_size=4,\n",
    "#                                           shuffle=True, num_workers=2)\n",
    "# x = iter(trainloader).next()\n",
    "# net = CNNCIFAR10()\n",
    "# net(x[0])"
   ]
  },
  {
   "cell_type": "code",
   "execution_count": null,
   "metadata": {},
   "outputs": [],
   "source": []
  }
 ],
 "metadata": {
  "kernelspec": {
   "display_name": "Python 3",
   "language": "python",
   "name": "python3"
  },
  "language_info": {
   "codemirror_mode": {
    "name": "ipython",
    "version": 3
   },
   "file_extension": ".py",
   "mimetype": "text/x-python",
   "name": "python",
   "nbconvert_exporter": "python",
   "pygments_lexer": "ipython3",
   "version": "3.8.3"
  }
 },
 "nbformat": 4,
 "nbformat_minor": 4
}
