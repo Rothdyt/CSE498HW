{
 "cells": [
  {
   "cell_type": "code",
   "execution_count": 16,
   "metadata": {
    "colab": {
     "base_uri": "https://localhost:8080/"
    },
    "executionInfo": {
     "elapsed": 1295,
     "status": "ok",
     "timestamp": 1613520317301,
     "user": {
      "displayName": "Yutong Dai",
      "photoUrl": "",
      "userId": "05937299442661106411"
     },
     "user_tz": 300
    },
    "id": "GJCoRxOmTagB",
    "outputId": "4b03154b-493c-4828-e57f-ed4c8bb25df8"
   },
   "outputs": [
    {
     "name": "stdout",
     "output_type": "stream",
     "text": [
      "Mounted at /content/gdrive\n"
     ]
    }
   ],
   "source": [
    "from google.colab import drive\n",
    "drive.mount('/content/gdrive')\n",
    "import torch\n",
    "import torchvision\n",
    "import torchvision.transforms as transforms\n",
    "from matplotlib import  pyplot as plt\n",
    "import _pickle as cPickle\n",
    "import pickle\n",
    "import os.path\n",
    "import warnings\n",
    "from sklearn.tree import  DecisionTreeClassifier\n",
    "from sklearn.ensemble import GradientBoostingClassifier\n",
    "from sklearn.naive_bayes import GaussianNB\n",
    "from sklearn.model_selection import GridSearchCV\n",
    "from sklearn.metrics import f1_score, accuracy_score\n",
    "from tqdm import tqdm\n",
    "projPath = './gdrive/MyDrive/CSE498-homework/hw1'\n",
    "dataDir = f'{projPath}/db/'\n",
    "modelDir = f'{projPath}/model/'"
   ]
  },
  {
   "cell_type": "markdown",
   "metadata": {
    "id": "A0j0sdlyhLBr"
   },
   "source": [
    "# MNIST Dataset\n",
    "\n"
   ]
  },
  {
   "cell_type": "markdown",
   "metadata": {
    "id": "mLizA_doXfje"
   },
   "source": [
    "## Prepare Dataset"
   ]
  },
  {
   "cell_type": "code",
   "execution_count": null,
   "metadata": {
    "colab": {
     "base_uri": "https://localhost:8080/"
    },
    "executionInfo": {
     "elapsed": 1584,
     "status": "ok",
     "timestamp": 1613416565139,
     "user": {
      "displayName": "Yutong Dai",
      "photoUrl": "",
      "userId": "05937299442661106411"
     },
     "user_tz": 300
    },
    "id": "-5hzul0pUl4y",
    "outputId": "abe13983-c003-4b52-bf9e-8981277b2859"
   },
   "outputs": [
    {
     "name": "stdout",
     "output_type": "stream",
     "text": [
      "# train samples: 60000 | # test samples:10000\n",
      "per image size: 28*28\n"
     ]
    }
   ],
   "source": [
    "transform = None\n",
    "trainset = torchvision.datasets.MNIST(dataDir, train=True,  download=False, transform=transform)\n",
    "testset = torchvision.datasets.MNIST(dataDir, train=False,  download=False, transform=transform)\n",
    "nTrainSamples, width, height = trainset.data.shape\n",
    "nTestSamples, width, height = testset.data.shape\n",
    "print(f'# train samples: {nTrainSamples} | # test samples:{nTestSamples}')\n",
    "print(f'per image size: {width}*{height}')\n",
    "Xtrain = trainset.data.view([nTrainSamples, width*height])\n",
    "Ytrain = trainset.targets.view([nTrainSamples,])\n",
    "Xtest = testset.data.view([nTestSamples, width*height])\n",
    "Ytest = testset.targets.view([nTestSamples,])"
   ]
  },
  {
   "cell_type": "code",
   "execution_count": null,
   "metadata": {
    "colab": {
     "base_uri": "https://localhost:8080/"
    },
    "executionInfo": {
     "elapsed": 245,
     "status": "ok",
     "timestamp": 1613396882785,
     "user": {
      "displayName": "Yutong Dai",
      "photoUrl": "",
      "userId": "05937299442661106411"
     },
     "user_tz": 300
    },
    "id": "sBxMuJZJlW0N",
    "outputId": "7eb8f12f-589e-499e-f208-a930e82b05fc"
   },
   "outputs": [
    {
     "name": "stdout",
     "output_type": "stream",
     "text": [
      "tensor([5923, 6742, 5958, 6131, 5842, 5421, 5918, 6265, 5851, 5949])\n",
      "tensor([ 980, 1135, 1032, 1010,  982,  892,  958, 1028,  974, 1009])\n"
     ]
    }
   ],
   "source": [
    "# check class distribution in train samples \n",
    "# almost evenly distributed\n",
    "print(torch.bincount(Ytrain.view([-1,])))\n",
    "print(torch.bincount(Ytest.view([-1,])))"
   ]
  },
  {
   "cell_type": "code",
   "execution_count": null,
   "metadata": {
    "id": "6PnLuNF0cvm8"
   },
   "outputs": [],
   "source": [
    "# generic training + parameter tuning\n",
    "def train_and_tune(X, y, model, parameters, scoring='f1_macro', kfold=5, verbose=0):\n",
    "  \"\"\"\n",
    "    @X: array-like of shape (n_samples, n_features)\n",
    "    @y: array-like of shape (n_samples,)\n",
    "    @model: (object) a sklearn model class\n",
    "    @parameters: (dict) contains the parameters you want to tune in the model\n",
    "    @metric: (str) the metric used to evaluate the quality of the model\n",
    "\n",
    "    return: a trained model with the best parameters\n",
    "  \"\"\"\n",
    "  cvSearchObj = GridSearchCV(model, parameters, scoring=scoring, n_jobs=-1, cv=kfold, verbose=verbose)\n",
    "  cvSearchObj.fit(X,y)\n",
    "  return cvSearchObj.best_estimator_"
   ]
  },
  {
   "cell_type": "markdown",
   "metadata": {
    "id": "EQz1p95ZXUw4"
   },
   "source": [
    "## Decision Tress Classifier"
   ]
  },
  {
   "cell_type": "code",
   "execution_count": null,
   "metadata": {
    "id": "K6C_tJcZX8w3"
   },
   "outputs": [],
   "source": [
    "# train\n",
    "dtree = DecisionTreeClassifier(random_state=498)\n",
    "parameters = {'min_samples_leaf':[1,2,3]}\n",
    "dtreeBest = train_and_tune(Xtrain, Ytrain, dtree, parameters, scoring='f1_macro', kfold=5)"
   ]
  },
  {
   "cell_type": "code",
   "execution_count": null,
   "metadata": {
    "colab": {
     "base_uri": "https://localhost:8080/"
    },
    "executionInfo": {
     "elapsed": 371,
     "status": "ok",
     "timestamp": 1613358931969,
     "user": {
      "displayName": "Yutong Dai",
      "photoUrl": "",
      "userId": "05937299442661106411"
     },
     "user_tz": 300
    },
    "id": "Lc8abAG8YQO9",
    "outputId": "41fba9cd-3927-4bd6-b471-53139d1a4078"
   },
   "outputs": [
    {
     "name": "stdout",
     "output_type": "stream",
     "text": [
      "Classification accuracy:0.88120 | Macro-F1 score:0.87962\n"
     ]
    }
   ],
   "source": [
    "# test\n",
    "Ypred = dtreeBest.predict(Xtest)\n",
    "print(f'Classification accuracy:{accuracy_score(Ypred, Ytest):6.5f} | Macro-F1 score:{f1_score(Ypred, Ytest, average=\"macro\"):6.5f}')"
   ]
  },
  {
   "cell_type": "code",
   "execution_count": null,
   "metadata": {
    "colab": {
     "base_uri": "https://localhost:8080/"
    },
    "executionInfo": {
     "elapsed": 378,
     "status": "ok",
     "timestamp": 1613358873320,
     "user": {
      "displayName": "Yutong Dai",
      "photoUrl": "",
      "userId": "05937299442661106411"
     },
     "user_tz": 300
    },
    "id": "b345L8kvqCA_",
    "outputId": "e4604af5-a2f6-4d15-a226-c9e533697e43"
   },
   "outputs": [
    {
     "name": "stdout",
     "output_type": "stream",
     "text": [
      "Model is saved at ./gdrive/MyDrive/CSE498-homework/hw1/model/decisionTree.pkl\n"
     ]
    }
   ],
   "source": [
    "# save\n",
    "modelPath = modelDir+ '{}.pkl'.format('decisionTree')\n",
    "if os.path.exists(modelPath):\n",
    "  warnings.warn(f\"Model exits at {modelPath}\")\n",
    "else:\n",
    "  with open(modelPath,\"wb\") as f:\n",
    "    pickle.dump(dtreeBest, f)\n",
    "  print(f\"Model is saved at {modelPath}\")"
   ]
  },
  {
   "cell_type": "markdown",
   "metadata": {
    "id": "JZSOtQL9hQEM"
   },
   "source": [
    "## GradientBoosting Classifier"
   ]
  },
  {
   "cell_type": "code",
   "execution_count": null,
   "metadata": {
    "colab": {
     "base_uri": "https://localhost:8080/"
    },
    "executionInfo": {
     "elapsed": 7118720,
     "status": "ok",
     "timestamp": 1613436912267,
     "user": {
      "displayName": "Yutong Dai",
      "photoUrl": "",
      "userId": "05937299442661106411"
     },
     "user_tz": 300
    },
    "id": "jVyNWLjFeCpc",
    "outputId": "5aacd3c6-f739-4688-ea9b-e2b14940043c"
   },
   "outputs": [
    {
     "name": "stdout",
     "output_type": "stream",
     "text": [
      "Fitting 3 folds for each of 4 candidates, totalling 12 fits\n"
     ]
    },
    {
     "name": "stderr",
     "output_type": "stream",
     "text": [
      "[Parallel(n_jobs=-1)]: Using backend LokyBackend with 2 concurrent workers.\n",
      "[Parallel(n_jobs=-1)]: Done   1 tasks      | elapsed: 29.4min\n",
      "[Parallel(n_jobs=-1)]: Done   4 tasks      | elapsed: 87.6min\n",
      "[Parallel(n_jobs=-1)]: Done   9 tasks      | elapsed: 179.1min\n",
      "[Parallel(n_jobs=-1)]: Done  12 out of  12 | elapsed: 273.6min finished\n"
     ]
    }
   ],
   "source": [
    "# train\n",
    "gb = GradientBoostingClassifier(random_state=498)\n",
    "parameters = {'learning_rate':[0.05, 0.1], 'n_estimators':[50, 100]}\n",
    "gbBest = train_and_tune(Xtrain, Ytrain, gb, parameters, scoring='f1_macro', kfold=3, verbose=10)"
   ]
  },
  {
   "cell_type": "code",
   "execution_count": null,
   "metadata": {
    "colab": {
     "base_uri": "https://localhost:8080/"
    },
    "executionInfo": {
     "elapsed": 622,
     "status": "ok",
     "timestamp": 1613436912861,
     "user": {
      "displayName": "Yutong Dai",
      "photoUrl": "",
      "userId": "05937299442661106411"
     },
     "user_tz": 300
    },
    "id": "1YdXKBBEVk-1",
    "outputId": "0f256768-982e-4a0d-c738-f0fb6d0804ed"
   },
   "outputs": [
    {
     "name": "stdout",
     "output_type": "stream",
     "text": [
      "Classification accuracy:0.94580 | Macro-F1 score:0.94528\n"
     ]
    }
   ],
   "source": [
    "# test\n",
    "Ypred = gbBest.predict(Xtest)\n",
    "print(f'Classification accuracy:{accuracy_score(Ypred, Ytest):6.5f} | Macro-F1 score:{f1_score(Ypred, Ytest, average=\"macro\"):6.5f}')"
   ]
  },
  {
   "cell_type": "code",
   "execution_count": null,
   "metadata": {
    "colab": {
     "base_uri": "https://localhost:8080/"
    },
    "executionInfo": {
     "elapsed": 1003,
     "status": "ok",
     "timestamp": 1613438103037,
     "user": {
      "displayName": "Yutong Dai",
      "photoUrl": "",
      "userId": "05937299442661106411"
     },
     "user_tz": 300
    },
    "id": "WNbyjukHWMV4",
    "outputId": "34456c33-9d2c-43b6-c030-78a9fcfe92f4"
   },
   "outputs": [
    {
     "name": "stdout",
     "output_type": "stream",
     "text": [
      "Model is saved at ./gdrive/MyDrive/CSE498-homework/hw1/model/gradientBoosting.pkl\n"
     ]
    }
   ],
   "source": [
    "# save\n",
    "modelPath = modelDir+ '{}.pkl'.format('gradientBoosting')\n",
    "if os.path.exists(modelPath):\n",
    "  warnings.warn(f\"Model exits at {modelPath}\")\n",
    "else:\n",
    "  with open(modelPath,\"wb\") as f:\n",
    "    pickle.dump(gbBest, f)\n",
    "  print(f\"Model is saved at {modelPath}\")"
   ]
  },
  {
   "cell_type": "markdown",
   "metadata": {
    "id": "z76f1hDZ2S9y"
   },
   "source": [
    "## Naive Bayes"
   ]
  },
  {
   "cell_type": "code",
   "execution_count": null,
   "metadata": {
    "colab": {
     "base_uri": "https://localhost:8080/"
    },
    "executionInfo": {
     "elapsed": 20690,
     "status": "ok",
     "timestamp": 1613362856060,
     "user": {
      "displayName": "Yutong Dai",
      "photoUrl": "",
      "userId": "05937299442661106411"
     },
     "user_tz": 300
    },
    "id": "JhUGTeky2SF2",
    "outputId": "df724021-19ee-46a4-ca1d-20da0567160a"
   },
   "outputs": [
    {
     "name": "stdout",
     "output_type": "stream",
     "text": [
      "Fitting 5 folds for each of 4 candidates, totalling 20 fits\n"
     ]
    },
    {
     "name": "stderr",
     "output_type": "stream",
     "text": [
      "[Parallel(n_jobs=-1)]: Using backend LokyBackend with 2 concurrent workers.\n",
      "[Parallel(n_jobs=-1)]: Done   1 tasks      | elapsed:    4.0s\n",
      "[Parallel(n_jobs=-1)]: Done   4 tasks      | elapsed:    6.2s\n",
      "[Parallel(n_jobs=-1)]: Done   9 tasks      | elapsed:   11.0s\n",
      "[Parallel(n_jobs=-1)]: Done  14 tasks      | elapsed:   15.0s\n",
      "[Parallel(n_jobs=-1)]: Done  20 out of  20 | elapsed:   19.8s remaining:    0.0s\n",
      "[Parallel(n_jobs=-1)]: Done  20 out of  20 | elapsed:   19.8s finished\n"
     ]
    }
   ],
   "source": [
    "# assume each feature follows Gaussian \n",
    "# X_i: i-th feature; mu_c: class mean; sigma_c^2: class variance\n",
    "# X_i ~ N(mu_c, sigma_c^2) \n",
    "\n",
    "# train\n",
    "nb = GaussianNB()\n",
    "parameters = {'var_smoothing':[1, 1e-1, 1e-3, 1e-9]}\n",
    "nbBest = train_and_tune(Xtrain, Ytrain, nb, parameters, scoring='f1_macro', kfold=5, verbose=10)"
   ]
  },
  {
   "cell_type": "code",
   "execution_count": null,
   "metadata": {
    "id": "nLCvEKax67lr"
   },
   "outputs": [],
   "source": [
    "# test\n",
    "Ypred = nbBest.predict(Xtest)\n",
    "print(f'Classification accuracy:{accuracy_score(Ypred, Ytest):6.5f} | Macro-F1 score:{f1_score(Ypred, Ytest, average=\"macro\"):6.5f}')"
   ]
  },
  {
   "cell_type": "code",
   "execution_count": null,
   "metadata": {
    "colab": {
     "base_uri": "https://localhost:8080/"
    },
    "executionInfo": {
     "elapsed": 393,
     "status": "ok",
     "timestamp": 1613362908400,
     "user": {
      "displayName": "Yutong Dai",
      "photoUrl": "",
      "userId": "05937299442661106411"
     },
     "user_tz": 300
    },
    "id": "sBrCx0hEfWK0",
    "outputId": "00b5e380-41a6-4fd0-8699-dfe32772b738"
   },
   "outputs": [
    {
     "name": "stdout",
     "output_type": "stream",
     "text": [
      "Model is saved at ./gdrive/MyDrive/CSE498-homework/hw1/model/GaussianNB.pkl\n"
     ]
    }
   ],
   "source": [
    "# save\n",
    "modelPath = modelDir+ '{}.pkl'.format('GaussianNB')\n",
    "# with open(modelPath,\"wb\") as f:\n",
    "#   pickle.dump(clf, f)\n",
    "if os.path.exists(modelPath):\n",
    "  warnings.warn(f\"Model exits at {modelPath}\")\n",
    "else:\n",
    "  with open(modelPath,\"wb\") as f:\n",
    "    pickle.dump(nbBest, f)\n",
    "  print(f\"Model is saved at {modelPath}\")"
   ]
  },
  {
   "cell_type": "markdown",
   "metadata": {
    "id": "E4Me6l_rp8Mv"
   },
   "source": [
    "# CIFAR-10"
   ]
  },
  {
   "cell_type": "markdown",
   "metadata": {
    "id": "a1LSvIRdTDcr"
   },
   "source": [
    "## Prepare datasets"
   ]
  },
  {
   "cell_type": "code",
   "execution_count": null,
   "metadata": {
    "colab": {
     "base_uri": "https://localhost:8080/"
    },
    "executionInfo": {
     "elapsed": 8081,
     "status": "ok",
     "timestamp": 1613486770540,
     "user": {
      "displayName": "Yutong Dai",
      "photoUrl": "",
      "userId": "05937299442661106411"
     },
     "user_tz": 300
    },
    "id": "1xtjqBSPp9ZO",
    "outputId": "a3d1314e-1d24-44d2-d61e-a33f1cf0ab6a"
   },
   "outputs": [
    {
     "name": "stdout",
     "output_type": "stream",
     "text": [
      "# train samples: 50000 | # test samples:10000\n",
      "per image size: 32*32 | per image channel:3\n",
      "Xtrain  shape: (50000, 3072) | Ytrain shape: torch.Size([50000])\n",
      "Xtest  shape: (10000, 3072) | Ytest shape: torch.Size([10000])\n"
     ]
    }
   ],
   "source": [
    "transform = None\n",
    "trainset = torchvision.datasets.CIFAR10(dataDir, train=True,  download=False, transform=transform)\n",
    "testset = torchvision.datasets.CIFAR10(dataDir, train=False,  download=False, transform=transform)\n",
    "nTrainSamples, width, height, channel = trainset.data.shape\n",
    "nTestSamples, width, height, channel = testset.data.shape\n",
    "print(f'# train samples: {nTrainSamples} | # test samples:{nTestSamples}')\n",
    "print(f'per image size: {width}*{height} | per image channel:{channel}')\n",
    "Xtrain = trainset.data.reshape([nTrainSamples, width*height*channel,])\n",
    "Ytrain = torch.tensor(trainset.targets)\n",
    "Xtest = testset.data.reshape([nTestSamples, width*height*channel])\n",
    "Ytest = torch.tensor(testset.targets)\n",
    "print(f'Xtrain  shape: {Xtrain.shape} | Ytrain shape: {Ytrain.shape}')\n",
    "print(f'Xtest  shape: {Xtest.shape} | Ytest shape: {Ytest.shape}')"
   ]
  },
  {
   "cell_type": "markdown",
   "metadata": {
    "id": "PzvaDERPbkqa"
   },
   "source": [
    "## Naive Bayes - Gaussian"
   ]
  },
  {
   "cell_type": "code",
   "execution_count": null,
   "metadata": {
    "colab": {
     "base_uri": "https://localhost:8080/"
    },
    "executionInfo": {
     "elapsed": 70785,
     "status": "ok",
     "timestamp": 1613438660866,
     "user": {
      "displayName": "Yutong Dai",
      "photoUrl": "",
      "userId": "05937299442661106411"
     },
     "user_tz": 300
    },
    "id": "dbU8RkyFbVlT",
    "outputId": "c96b823c-6d89-46f5-b611-f2e01959c9f3"
   },
   "outputs": [
    {
     "name": "stdout",
     "output_type": "stream",
     "text": [
      "Fitting 5 folds for each of 4 candidates, totalling 20 fits\n"
     ]
    },
    {
     "name": "stderr",
     "output_type": "stream",
     "text": [
      "[Parallel(n_jobs=-1)]: Using backend LokyBackend with 2 concurrent workers.\n",
      "[Parallel(n_jobs=-1)]: Done   1 tasks      | elapsed:    9.8s\n",
      "[Parallel(n_jobs=-1)]: Done   4 tasks      | elapsed:   21.2s\n",
      "[Parallel(n_jobs=-1)]: Done   9 tasks      | elapsed:   41.7s\n",
      "[Parallel(n_jobs=-1)]: Done  14 tasks      | elapsed:   52.6s\n",
      "[Parallel(n_jobs=-1)]: Done  20 out of  20 | elapsed:  1.1min remaining:    0.0s\n",
      "[Parallel(n_jobs=-1)]: Done  20 out of  20 | elapsed:  1.1min finished\n"
     ]
    }
   ],
   "source": [
    "nb = GaussianNB()\n",
    "parameters = {'var_smoothing':[1, 1e-1, 1e-3, 1e-9]}\n",
    "nbBest = train_and_tune(Xtrain, Ytrain, nb, parameters, scoring='f1_macro', kfold=5, verbose=10)"
   ]
  },
  {
   "cell_type": "code",
   "execution_count": null,
   "metadata": {
    "colab": {
     "base_uri": "https://localhost:8080/"
    },
    "executionInfo": {
     "elapsed": 2257,
     "status": "ok",
     "timestamp": 1613438663165,
     "user": {
      "displayName": "Yutong Dai",
      "photoUrl": "",
      "userId": "05937299442661106411"
     },
     "user_tz": 300
    },
    "id": "HcupbLSkbWQF",
    "outputId": "5d987ae4-f079-4021-e212-2746d512facb"
   },
   "outputs": [
    {
     "name": "stdout",
     "output_type": "stream",
     "text": [
      "Classification accuracy:0.29760 | Macro-F1 score:0.27546\n"
     ]
    }
   ],
   "source": [
    "# test\n",
    "Ypred = nbBest.predict(Xtest)\n",
    "print(f'Classification accuracy:{accuracy_score(Ypred, Ytest):6.5f} | Macro-F1 score:{f1_score(Ypred, Ytest, average=\"macro\"):6.5f}')"
   ]
  },
  {
   "cell_type": "code",
   "execution_count": null,
   "metadata": {
    "colab": {
     "base_uri": "https://localhost:8080/"
    },
    "executionInfo": {
     "elapsed": 236,
     "status": "ok",
     "timestamp": 1613438664261,
     "user": {
      "displayName": "Yutong Dai",
      "photoUrl": "",
      "userId": "05937299442661106411"
     },
     "user_tz": 300
    },
    "id": "VKKCz-lDb5BO",
    "outputId": "b7fa2338-1cde-4209-e019-9d0182c041cf"
   },
   "outputs": [
    {
     "name": "stdout",
     "output_type": "stream",
     "text": [
      "Model is saved at ./gdrive/MyDrive/CSE498-homework/hw1/model/cifa10-GaussianNB.pkl\n"
     ]
    }
   ],
   "source": [
    "# save\n",
    "modelPath = modelDir+ '{}.pkl'.format('cifa10-GaussianNB')\n",
    "# with open(modelPath,\"wb\") as f:\n",
    "#   pickle.dump(clf, f)\n",
    "if os.path.exists(modelPath):\n",
    "  warnings.warn(f\"Model exits at {modelPath}\")\n",
    "else:\n",
    "  with open(modelPath,\"wb\") as f:\n",
    "    pickle.dump(nbBest, f)\n",
    "  print(f\"Model is saved at {modelPath}\")"
   ]
  },
  {
   "cell_type": "markdown",
   "metadata": {
    "id": "AkANEdA3cHmx"
   },
   "source": [
    "## Decision Tree"
   ]
  },
  {
   "cell_type": "code",
   "execution_count": null,
   "metadata": {
    "id": "TcEYzBy7cGtI"
   },
   "outputs": [],
   "source": [
    "# train\n",
    "dtree = DecisionTreeClassifier(random_state=498)\n",
    "parameters = {'min_samples_leaf':[1,2,3]}\n",
    "dtreeBest = train_and_tune(Xtrain, Ytrain, dtree, parameters, scoring='f1_macro', kfold=3)"
   ]
  },
  {
   "cell_type": "code",
   "execution_count": null,
   "metadata": {
    "colab": {
     "base_uri": "https://localhost:8080/"
    },
    "executionInfo": {
     "elapsed": 804,
     "status": "ok",
     "timestamp": 1613441783294,
     "user": {
      "displayName": "Yutong Dai",
      "photoUrl": "",
      "userId": "05937299442661106411"
     },
     "user_tz": 300
    },
    "id": "_E6GEaYUcT2B",
    "outputId": "fd17c1ee-ec61-457e-cd64-77a4842d07cf"
   },
   "outputs": [
    {
     "name": "stdout",
     "output_type": "stream",
     "text": [
      "Classification accuracy:0.26970 | Macro-F1 score:0.26961\n"
     ]
    }
   ],
   "source": [
    "# test\n",
    "Ypred = dtreeBest.predict(Xtest)\n",
    "print(f'Classification accuracy:{accuracy_score(Ypred, Ytest):6.5f} | Macro-F1 score:{f1_score(Ypred, Ytest, average=\"macro\"):6.5f}')"
   ]
  },
  {
   "cell_type": "code",
   "execution_count": null,
   "metadata": {
    "colab": {
     "base_uri": "https://localhost:8080/"
    },
    "executionInfo": {
     "elapsed": 243,
     "status": "ok",
     "timestamp": 1613441910517,
     "user": {
      "displayName": "Yutong Dai",
      "photoUrl": "",
      "userId": "05937299442661106411"
     },
     "user_tz": 300
    },
    "id": "BBS3u3ZgcV-n",
    "outputId": "fe81705f-314d-41da-a32b-9f793fff25e8"
   },
   "outputs": [
    {
     "name": "stdout",
     "output_type": "stream",
     "text": [
      "Model is saved at ./gdrive/MyDrive/CSE498-homework/hw1/model/cifa10-decisionTree.pkl\n"
     ]
    }
   ],
   "source": [
    "# save\n",
    "modelPath = modelDir+ '{}.pkl'.format('cifa10-decisionTree')\n",
    "if os.path.exists(modelPath):\n",
    "  warnings.warn(f\"Model exits at {modelPath}\")\n",
    "else:\n",
    "  with open(modelPath,\"wb\") as f:\n",
    "    cPickle.dump(dtreeBest, f)\n",
    "  print(f\"Model is saved at {modelPath}\")"
   ]
  },
  {
   "cell_type": "markdown",
   "metadata": {
    "id": "XIPHxOeIo6L-"
   },
   "source": [
    "## GradientBoosting\n",
    "\n",
    "The code takes too long to be trained colab ..."
   ]
  },
  {
   "cell_type": "code",
   "execution_count": null,
   "metadata": {
    "colab": {
     "base_uri": "https://localhost:8080/"
    },
    "id": "rpq9imbjo5l8",
    "outputId": "f946b3c3-0c6b-41a4-9d7f-135468a02be4"
   },
   "outputs": [
    {
     "name": "stdout",
     "output_type": "stream",
     "text": [
      "Fitting 3 folds for each of 4 candidates, totalling 12 fits\n"
     ]
    },
    {
     "name": "stderr",
     "output_type": "stream",
     "text": [
      "[Parallel(n_jobs=-1)]: Using backend LokyBackend with 2 concurrent workers.\n",
      "[Parallel(n_jobs=-1)]: Done   1 tasks      | elapsed: 261.9min\n"
     ]
    }
   ],
   "source": [
    "# train\n",
    "gb = GradientBoostingClassifier(random_state=498)\n",
    "parameters = {'learning_rate':[0.05, 0.1], 'n_estimators':[50, 100]}\n",
    "gbBest = train_and_tune(Xtrain, Ytrain, gb, parameters, scoring='f1_macro', kfold=3, verbose=10)"
   ]
  },
  {
   "cell_type": "code",
   "execution_count": null,
   "metadata": {
    "id": "-N6CxXgXpB5k"
   },
   "outputs": [],
   "source": [
    "# test\n",
    "Ypred = gbBest.predict(Xtest)\n",
    "print(f'Classification accuracy:{accuracy_score(Ypred, Ytest):6.5f} | Macro-F1 score:{f1_score(Ypred, Ytest, average=\"macro\"):6.5f}')"
   ]
  },
  {
   "cell_type": "code",
   "execution_count": null,
   "metadata": {
    "id": "_ziVt3VhpLAp"
   },
   "outputs": [],
   "source": [
    "# save\n",
    "modelPath = modelDir+ '{}.pkl'.format('cifa10-gradientBoosting')\n",
    "if os.path.exists(modelPath):\n",
    "  warnings.warn(f\"Model exits at {modelPath}\")\n",
    "else:\n",
    "  with open(modelPath,\"wb\") as f:\n",
    "    cPickle.dump(gbBest, f)\n",
    "  print(f\"Model is saved at {modelPath}\")"
   ]
  },
  {
   "cell_type": "code",
   "execution_count": 10,
   "metadata": {
    "colab": {
     "base_uri": "https://localhost:8080/"
    },
    "executionInfo": {
     "elapsed": 1410696,
     "status": "ok",
     "timestamp": 1613517441102,
     "user": {
      "displayName": "Yutong Dai",
      "photoUrl": "",
      "userId": "05937299442661106411"
     },
     "user_tz": 300
    },
    "id": "T1SzCjRmS22e",
    "outputId": "f5041c6b-60b6-4fd9-e9fa-4ac355371f83"
   },
   "outputs": [
    {
     "data": {
      "text/plain": [
       "GradientBoostingClassifier(ccp_alpha=0.0, criterion='friedman_mse', init=None,\n",
       "                           learning_rate=0.1, loss='deviance', max_depth=3,\n",
       "                           max_features=None, max_leaf_nodes=None,\n",
       "                           min_impurity_decrease=0.0, min_impurity_split=None,\n",
       "                           min_samples_leaf=1, min_samples_split=2,\n",
       "                           min_weight_fraction_leaf=0.0, n_estimators=100,\n",
       "                           n_iter_no_change=None, presort='deprecated',\n",
       "                           random_state=498, subsample=1.0, tol=0.0001,\n",
       "                           validation_fraction=0.1, verbose=0,\n",
       "                           warm_start=False)"
      ]
     },
     "execution_count": 10,
     "metadata": {
      "tags": []
     },
     "output_type": "execute_result"
    }
   ],
   "source": [
    "gb = GradientBoostingClassifier(random_state=498, learning_rate=0.1, n_estimators=100)\n",
    "gb.fit(Xtrain, Ytrain)"
   ]
  },
  {
   "cell_type": "code",
   "execution_count": 12,
   "metadata": {
    "colab": {
     "base_uri": "https://localhost:8080/"
    },
    "executionInfo": {
     "elapsed": 1024,
     "status": "ok",
     "timestamp": 1613520220327,
     "user": {
      "displayName": "Yutong Dai",
      "photoUrl": "",
      "userId": "05937299442661106411"
     },
     "user_tz": 300
    },
    "id": "VJK6OahqUCl8",
    "outputId": "82201e33-bc04-4a8f-a657-a0f0e909faee"
   },
   "outputs": [
    {
     "name": "stdout",
     "output_type": "stream",
     "text": [
      "Classification accuracy:0.48250 | Macro-F1 score:0.47972\n"
     ]
    }
   ],
   "source": [
    "# test\n",
    "Ypred = gb.predict(Xtest)\n",
    "print(f'Classification accuracy:{accuracy_score(Ypred, Ytest):6.5f} | Macro-F1 score:{f1_score(Ypred, Ytest, average=\"macro\"):6.5f}')"
   ]
  },
  {
   "cell_type": "code",
   "execution_count": 18,
   "metadata": {
    "colab": {
     "base_uri": "https://localhost:8080/"
    },
    "executionInfo": {
     "elapsed": 221,
     "status": "ok",
     "timestamp": 1613520359101,
     "user": {
      "displayName": "Yutong Dai",
      "photoUrl": "",
      "userId": "05937299442661106411"
     },
     "user_tz": 300
    },
    "id": "V0L82QGzTIsY",
    "outputId": "0897666b-9982-487a-d011-28048e977e4f"
   },
   "outputs": [
    {
     "name": "stdout",
     "output_type": "stream",
     "text": [
      "Model is saved at ./gdrive/MyDrive/CSE498-homework/hw1/model/cifa10-gradientBoosting.pkl\n"
     ]
    }
   ],
   "source": [
    "# save\n",
    "modelPath = modelDir+ '{}.pkl'.format('cifa10-gradientBoosting')\n",
    "if os.path.exists(modelPath):\n",
    "  warnings.warn(f\"Model exits at {modelPath}\")\n",
    "else:\n",
    "  with open(modelPath,\"wb\") as f:\n",
    "    cPickle.dump(gb, f)\n",
    "  print(f\"Model is saved at {modelPath}\")"
   ]
  }
 ],
 "metadata": {
  "colab": {
   "authorship_tag": "ABX9TyMeQ6DgyaaYPA9mTHc6llKy",
   "collapsed_sections": [],
   "mount_file_id": "1CgZlsdCNnsg15jJ9bq_vSFhW4AnMzn74",
   "name": "01_traditionalML.ipynb",
   "provenance": []
  },
  "kernelspec": {
   "display_name": "Python 3",
   "language": "python",
   "name": "python3"
  },
  "language_info": {
   "codemirror_mode": {
    "name": "ipython",
    "version": 3
   },
   "file_extension": ".py",
   "mimetype": "text/x-python",
   "name": "python",
   "nbconvert_exporter": "python",
   "pygments_lexer": "ipython3",
   "version": "3.7.6"
  }
 },
 "nbformat": 4,
 "nbformat_minor": 4
}